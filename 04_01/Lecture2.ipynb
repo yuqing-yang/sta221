{
 "cells": [
  {
   "cell_type": "markdown",
   "metadata": {},
   "source": [
    "Below, we illustrate vector concepts in python."
   ]
  },
  {
   "cell_type": "code",
   "execution_count": 2,
   "metadata": {},
   "outputs": [
    {
     "data": {
      "text/plain": [
       "array([0, 1, 2, 3, 4])"
      ]
     },
     "execution_count": 2,
     "metadata": {},
     "output_type": "execute_result"
    }
   ],
   "source": [
    "import numpy as np ##NUMPY for mumerical computing in python\n",
    "\n",
    "#a = np.array([1,2,3,4,5,6]) \n",
    "#a\n",
    "#type(a)\n",
    "#a.shape\n",
    "\n",
    "#a = np.array([[1,2], [3,4],[2,3]])\n",
    "#a\n",
    "#a.shape\n",
    "\n",
    "a = np.arange(5)\n",
    "a\n",
    "\n",
    "#a = np.ones((2, 2))\n",
    "#a\n",
    "\n",
    "#b = np.zeros((2, 2))\n",
    "#b\n",
    "\n",
    "##c\n",
    "\n",
    "\n",
    "#d = np.diag(np.array([1, 2,20,40]))\n",
    "#d    \n",
    "\n",
    "#r = np.random.rand(2,2)\n",
    "#r"
   ]
  },
  {
   "cell_type": "code",
   "execution_count": 4,
   "metadata": {},
   "outputs": [
    {
     "data": {
      "text/plain": [
       "array([[1.95900929, 2.76051585],\n",
       "       [3.36786487, 4.87283355]])"
      ]
     },
     "execution_count": 4,
     "metadata": {},
     "output_type": "execute_result"
    }
   ],
   "source": [
    "a = np.array([[1, 2], [3, 4]])\n",
    "a.dtype #array data type\n",
    "\n",
    "b = np.random.random((2, 2))\n",
    "b.dtype\n",
    "\n",
    "a = a+b\n",
    "a\n",
    "#a.dtype"
   ]
  },
  {
   "cell_type": "code",
   "execution_count": 5,
   "metadata": {},
   "outputs": [
    {
     "data": {
      "text/plain": [
       "dtype('int64')"
      ]
     },
     "execution_count": 5,
     "metadata": {},
     "output_type": "execute_result"
    }
   ],
   "source": [
    "#Convert array types\n",
    "a = np.random.rand(2,2) * 5\n",
    "a\n",
    "\n",
    "b = a.astype(int)\n",
    "b\n",
    "\n",
    "b.dtype #not just taking the integer part; the data type itself is changed."
   ]
  },
  {
   "cell_type": "code",
   "execution_count": 9,
   "metadata": {},
   "outputs": [
    {
     "name": "stdout",
     "output_type": "stream",
     "text": [
      "[[0 0 0]\n",
      " [0 1 0]\n",
      " [0 0 2]]\n",
      "1\n",
      "[0 1 0]\n"
     ]
    }
   ],
   "source": [
    "#indexing\n",
    "a = np.diag(np.arange(3))\n",
    "print(a)\n",
    "\n",
    "print(a[1, 1])\n",
    "\n",
    "\n",
    "print(a[1])  # index the entire row\n",
    "\n",
    "#For more fancy indexing schemes see http://scipy-lectures.org/intro/numpy/array_object.html#indexing-and-slicing\n"
   ]
  },
  {
   "cell_type": "code",
   "execution_count": 8,
   "metadata": {},
   "outputs": [
    {
     "data": {
      "text/plain": [
       "array([[2, 4, 6],\n",
       "       [5, 7, 9]])"
      ]
     },
     "execution_count": 8,
     "metadata": {},
     "output_type": "execute_result"
    }
   ],
   "source": [
    "#arithmetics on array\n",
    "\n",
    "a = np.array([[1,2,3], [4,5,6]])\n",
    "b = np.array([[4,5,6], [1,2,3]])\n",
    "\n",
    "a\n",
    "b\n",
    "\n",
    "\n",
    "#a+b\n",
    "#a-b\n",
    "#a*b\n",
    "#a/b\n",
    "a**b #exponentiation\n",
    "a + 1\n",
    "a + np.array([[1], [2]])\n",
    "a + np.array([1, 2, 3])"
   ]
  },
  {
   "cell_type": "code",
   "execution_count": 14,
   "metadata": {},
   "outputs": [
    {
     "data": {
      "text/plain": [
       "array([1, 4])"
      ]
     },
     "execution_count": 14,
     "metadata": {},
     "output_type": "execute_result"
    }
   ],
   "source": [
    "#more operations on arrays\n",
    "a = np.array([[1,2,3], [4,5,6]])\n",
    "a.sum() #sum of all entries\n",
    "a.sum(axis=0) #sum along colums\n",
    "a.sum(axis=1) #sum along rows\n",
    "\n",
    "\n",
    "a.min() # min of all entries\n",
    "a.min(axis=0) #sum along colums\n",
    "a.min(axis=1) #sum along rows"
   ]
  },
  {
   "cell_type": "code",
   "execution_count": 20,
   "metadata": {},
   "outputs": [
    {
     "data": {
      "text/plain": [
       "[<matplotlib.lines.Line2D at 0x26b1bcc4780>]"
      ]
     },
     "execution_count": 20,
     "metadata": {},
     "output_type": "execute_result"
    },
    {
     "data": {
      "image/png": "[encoded data removed]",
      "text/plain": [
       "<Figure size 432x288 with 1 Axes>"
      ]
     },
     "metadata": {
      "needs_background": "light"
     },
     "output_type": "display_data"
    }
   ],
   "source": [
    "import numpy as np\n",
    "from scipy.stats import norm\n",
    "import matplotlib.pyplot as plt\n",
    "\n",
    "\n",
    "# Generate some data for this demonstration.\n",
    "data = norm.rvs(10.0, 0.06, size=100000)\n",
    "\n",
    "# Fit a normal distribution to the data:\n",
    "mu, std = norm.fit(data)\n",
    "\n",
    "# Plot the histogram.\n",
    "plt.hist(data, bins=10, density=True, alpha=0.5, color='b')\n",
    "\n",
    "# Plot the PDF.\n",
    "xmin, xmax = plt.xlim()\n",
    "x = np.linspace(xmin, xmax, 100)\n",
    "p = norm.pdf(x, mu, std)\n",
    "plt.plot(x, p, 'k', linewidth=2)\n",
    "\n",
    "#plt.savefig(\"fw.pdf\", bbox_inches='tight')"
   ]
  },
  {
   "cell_type": "code",
   "execution_count": 21,
   "metadata": {},
   "outputs": [
    {
     "name": "stdout",
     "output_type": "stream",
     "text": [
      "[[2.06879014]\n",
      " [2.65544776]\n",
      " [4.53407865]\n",
      " [0.11301844]\n",
      " [0.10405938]]\n",
      "[[2.06879014 2.65544776 4.53407865 0.11301844 0.10405938]]\n"
     ]
    }
   ],
   "source": [
    "%matplotlib inline\n",
    "import numpy as np\n",
    "import matplotlib.pyplot as plt\n",
    "\n",
    "\n",
    "x = 5*np.random.random((5,1))\n",
    "print(x)\n",
    "\n",
    "print(x.T)\n"
   ]
  },
  {
   "cell_type": "code",
   "execution_count": 7,
   "metadata": {},
   "outputs": [
    {
     "data": {
      "text/plain": [
       "5"
      ]
     },
     "execution_count": 7,
     "metadata": {},
     "output_type": "execute_result"
    }
   ],
   "source": [
    "len(x) #dimension of the vector"
   ]
  },
  {
   "cell_type": "code",
   "execution_count": 10,
   "metadata": {},
   "outputs": [
    {
     "name": "stdout",
     "output_type": "stream",
     "text": [
      "5.211085646336059\n",
      "8.504951001288747\n",
      "4.45644522484254\n"
     ]
    }
   ],
   "source": [
    "print(np.linalg.norm(x)) #L-2 norm of vector \n",
    "print(np.linalg.norm(x,1)) #L-1 norm of vector \n",
    "print(np.linalg.norm(x,np.inf)) #L-1 norm of vector \n",
    "\n"
   ]
  },
  {
   "cell_type": "code",
   "execution_count": 3,
   "metadata": {},
   "outputs": [
    {
     "name": "stdout",
     "output_type": "stream",
     "text": [
      "[[0.01908477]\n",
      " [0.63803126]\n",
      " [0.48650875]\n",
      " [0.35912857]\n",
      " [0.47632739]]\n"
     ]
    },
    {
     "data": {
      "text/plain": [
       "0.9999999999999999"
      ]
     },
     "execution_count": 3,
     "metadata": {},
     "output_type": "execute_result"
    }
   ],
   "source": [
    "n = x/np.linalg.norm(x) # normalizing a vector to make it length 1.\n",
    "print(n)\n",
    "np.linalg.norm(n)"
   ]
  },
  {
   "cell_type": "code",
   "execution_count": 28,
   "metadata": {},
   "outputs": [
    {
     "name": "stdout",
     "output_type": "stream",
     "text": [
      "5.0\n",
      "5.0\n",
      "5.0\n"
     ]
    }
   ],
   "source": [
    "u = np.array([3,0]).reshape((-1,1)) \n",
    "# -1: it is an unknown dimension and we want numpy to figure it out\n",
    "v = np.array([0,4]).reshape((-1,1))\n",
    "\n",
    "#distance between two vectors u and v\n",
    "print(np.linalg.norm(u - v)) \n",
    "print(np.linalg.norm(v - u))\n",
    "print(np.sqrt(np.sum((u - v)**2)))\n"
   ]
  },
  {
   "cell_type": "code",
   "execution_count": 6,
   "metadata": {},
   "outputs": [
    {
     "data": {
      "text/plain": [
       "array([[3],\n",
       "       [3]])"
      ]
     },
     "execution_count": 6,
     "metadata": {},
     "output_type": "execute_result"
    }
   ],
   "source": [
    "np.array([3,3])\n",
    "np.array([3,3]).reshape((-1,1))"
   ]
  },
  {
   "cell_type": "code",
   "execution_count": 22,
   "metadata": {},
   "outputs": [
    {
     "data": {
      "text/plain": [
       "33"
      ]
     },
     "execution_count": 22,
     "metadata": {},
     "output_type": "execute_result"
    }
   ],
   "source": [
    "#dot product\n",
    "u = np.array([3,3])\n",
    "v = np.array([2,9])\n",
    "np.dot(u, v)"
   ]
  },
  {
   "cell_type": "code",
   "execution_count": 23,
   "metadata": {},
   "outputs": [
    {
     "name": "stdout",
     "output_type": "stream",
     "text": [
      "33\n",
      "33\n"
     ]
    }
   ],
   "source": [
    "#other command for dot product\n",
    "print(u.T @ v)\n",
    "print(np.sum(u * v))"
   ]
  },
  {
   "cell_type": "code",
   "execution_count": 24,
   "metadata": {},
   "outputs": [
    {
     "name": "stdout",
     "output_type": "stream",
     "text": [
      "0.8436614877321076\n",
      "32.47119229084848\n"
     ]
    }
   ],
   "source": [
    "cos_angle = np.dot(u.T, v)/(np.linalg.norm(u)*np.linalg.norm(v))\n",
    "print(cos_angle)\n",
    "\n",
    "theta = 180/np.pi*np.arccos(cos_angle)\n",
    "print(theta)\n"
   ]
  },
  {
   "cell_type": "code",
   "execution_count": 25,
   "metadata": {},
   "outputs": [
    {
     "name": "stdout",
     "output_type": "stream",
     "text": [
      "[[1]\n",
      " [2]\n",
      " [3]]\n",
      "   \n",
      "[[1 2 3]\n",
      " [2 4 6]\n",
      " [3 6 9]]\n"
     ]
    }
   ],
   "source": [
    "#outer product\n",
    "v = np.array([1,2,3]).reshape((-1,1))\n",
    "print(v)\n",
    "print('   ')\n",
    "print(v @ v.T)"
   ]
  },
  {
   "cell_type": "markdown",
   "metadata": {},
   "source": [
    "We now illustrate matrix concepts in python."
   ]
  },
  {
   "cell_type": "code",
   "execution_count": 26,
   "metadata": {},
   "outputs": [
    {
     "name": "stdout",
     "output_type": "stream",
     "text": [
      "[[0.04608082 0.16415899 0.31691195]\n",
      " [0.10016389 0.80360358 0.07748808]\n",
      " [0.38864869 0.81623706 0.23070291]\n",
      " [0.36027997 0.71952024 0.57270433]\n",
      " [0.61868595 0.10213892 0.69390166]\n",
      " [0.52238427 0.54903668 0.84339671]\n",
      " [0.01522827 0.63568984 0.35709837]\n",
      " [0.09623143 0.38673079 0.63311006]\n",
      " [0.08135723 0.62006833 0.1269693 ]\n",
      " [0.85527301 0.97288967 0.78896182]]\n"
     ]
    }
   ],
   "source": [
    "#covariance matrix\n",
    "n, p = 10, 3\n",
    "x = np.random.random((n, p)) # generate n samples in d dimensions \n",
    "print(x)"
   ]
  },
  {
   "cell_type": "code",
   "execution_count": 27,
   "metadata": {},
   "outputs": [
    {
     "data": {
      "text/plain": [
       "array([[ 0.08277281,  0.01825122,  0.05646685],\n",
       "       [ 0.01825122,  0.08042652, -0.01236435],\n",
       "       [ 0.05646685, -0.01236435,  0.07703145]])"
      ]
     },
     "execution_count": 27,
     "metadata": {},
     "output_type": "execute_result"
    }
   ],
   "source": [
    "np.cov(x, rowvar=False)\n",
    "\n",
    "# you are encouraged to read https://docs.scipy.org/doc/numpy/reference/generated/numpy.cov.html"
   ]
  },
  {
   "cell_type": "code",
   "execution_count": 36,
   "metadata": {},
   "outputs": [
    {
     "data": {
      "image/png": "[encoded data removed]",
      "text/plain": [
       "<Figure size 432x288 with 1 Axes>"
      ]
     },
     "metadata": {},
     "output_type": "display_data"
    }
   ],
   "source": [
    "import networkx as nx\n",
    "G=nx.dodecahedral_graph()\n",
    "nx.draw(G)"
   ]
  },
  {
   "cell_type": "code",
   "execution_count": 40,
   "metadata": {},
   "outputs": [
    {
     "data": {
      "image/png": "[encoded data removed]",
      "text/plain": [
       "<Figure size 432x288 with 1 Axes>"
      ]
     },
     "metadata": {},
     "output_type": "display_data"
    }
   ],
   "source": [
    "g = nx.random_lobster(5,0.9,0.7) #generates a lobster graph http://mathworld.wolfram.com/LobsterGraph.html\n",
    "nx.draw(g)"
   ]
  },
  {
   "cell_type": "code",
   "execution_count": 15,
   "metadata": {},
   "outputs": [
    {
     "name": "stdout",
     "output_type": "stream",
     "text": [
      "  (0, 1)\t1\n",
      "  (0, 6)\t1\n",
      "  (1, 0)\t1\n",
      "  (1, 2)\t1\n",
      "  (1, 8)\t1\n",
      "  (2, 1)\t1\n",
      "  (2, 3)\t1\n",
      "  (2, 10)\t1\n",
      "  (3, 2)\t1\n",
      "  (3, 4)\t1\n",
      "  (3, 11)\t1\n",
      "  (4, 3)\t1\n",
      "  (4, 5)\t1\n",
      "  (4, 13)\t1\n",
      "  (5, 4)\t1\n",
      "  (5, 15)\t1\n",
      "  (6, 0)\t1\n",
      "  (6, 7)\t1\n",
      "  (7, 6)\t1\n",
      "  (8, 1)\t1\n",
      "  (8, 9)\t1\n",
      "  (9, 8)\t1\n",
      "  (10, 2)\t1\n",
      "  (11, 3)\t1\n",
      "  (11, 12)\t1\n",
      "  (12, 11)\t1\n",
      "  (13, 4)\t1\n",
      "  (13, 14)\t1\n",
      "  (14, 13)\t1\n",
      "  (15, 5)\t1\n",
      "  (15, 16)\t1\n",
      "  (16, 15)\t1\n"
     ]
    }
   ],
   "source": [
    "m = nx.adjacency_matrix(g)\n",
    "print(m) ## listed entrywise. Typically, the size of adjacency matrices are too large with lot of zeros (think of facebook) "
   ]
  },
  {
   "cell_type": "code",
   "execution_count": 16,
   "metadata": {},
   "outputs": [
    {
     "data": {
      "text/plain": [
       "matrix([[0, 1, 0, 0, 0, 0, 1, 0, 0, 0, 0, 0, 0, 0, 0, 0, 0],\n",
       "        [1, 0, 1, 0, 0, 0, 0, 0, 1, 0, 0, 0, 0, 0, 0, 0, 0],\n",
       "        [0, 1, 0, 1, 0, 0, 0, 0, 0, 0, 1, 0, 0, 0, 0, 0, 0],\n",
       "        [0, 0, 1, 0, 1, 0, 0, 0, 0, 0, 0, 1, 0, 0, 0, 0, 0],\n",
       "        [0, 0, 0, 1, 0, 1, 0, 0, 0, 0, 0, 0, 0, 1, 0, 0, 0],\n",
       "        [0, 0, 0, 0, 1, 0, 0, 0, 0, 0, 0, 0, 0, 0, 0, 1, 0],\n",
       "        [1, 0, 0, 0, 0, 0, 0, 1, 0, 0, 0, 0, 0, 0, 0, 0, 0],\n",
       "        [0, 0, 0, 0, 0, 0, 1, 0, 0, 0, 0, 0, 0, 0, 0, 0, 0],\n",
       "        [0, 1, 0, 0, 0, 0, 0, 0, 0, 1, 0, 0, 0, 0, 0, 0, 0],\n",
       "        [0, 0, 0, 0, 0, 0, 0, 0, 1, 0, 0, 0, 0, 0, 0, 0, 0],\n",
       "        [0, 0, 1, 0, 0, 0, 0, 0, 0, 0, 0, 0, 0, 0, 0, 0, 0],\n",
       "        [0, 0, 0, 1, 0, 0, 0, 0, 0, 0, 0, 0, 1, 0, 0, 0, 0],\n",
       "        [0, 0, 0, 0, 0, 0, 0, 0, 0, 0, 0, 1, 0, 0, 0, 0, 0],\n",
       "        [0, 0, 0, 0, 1, 0, 0, 0, 0, 0, 0, 0, 0, 0, 1, 0, 0],\n",
       "        [0, 0, 0, 0, 0, 0, 0, 0, 0, 0, 0, 0, 0, 1, 0, 0, 0],\n",
       "        [0, 0, 0, 0, 0, 1, 0, 0, 0, 0, 0, 0, 0, 0, 0, 0, 1],\n",
       "        [0, 0, 0, 0, 0, 0, 0, 0, 0, 0, 0, 0, 0, 0, 0, 1, 0]], dtype=int64)"
      ]
     },
     "execution_count": 16,
     "metadata": {},
     "output_type": "execute_result"
    }
   ],
   "source": [
    "m.todense() #converts into a regular matrix format."
   ]
  },
  {
   "cell_type": "code",
   "execution_count": 31,
   "metadata": {},
   "outputs": [
    {
     "name": "stdout",
     "output_type": "stream",
     "text": [
      "A= [[0.88889289 0.38583542 0.56582605]\n",
      " [0.93064807 0.44596215 0.27730947]\n",
      " [0.74855617 0.12312884 0.36956948]]\n",
      "b = [[0.5297762 ]\n",
      " [0.71081782]\n",
      " [0.99331757]]\n"
     ]
    }
   ],
   "source": [
    "#solving system of linear equations\n",
    "A = np.random.random((3,3))\n",
    "print(\"A=\",A)\n",
    "b = np.random.random((3,1))\n",
    "print(\"b =\", b)"
   ]
  },
  {
   "cell_type": "code",
   "execution_count": 32,
   "metadata": {},
   "outputs": [
    {
     "data": {
      "text/plain": [
       "array([[ 2.09845113],\n",
       "       [-2.28744911],\n",
       "       [-0.80049902]])"
      ]
     },
     "execution_count": 32,
     "metadata": {},
     "output_type": "execute_result"
    }
   ],
   "source": [
    "np.linalg.solve(A, b)  #linear system\n",
    "#np.linalg.inv(A) ##inverse"
   ]
  },
  {
   "cell_type": "code",
   "execution_count": 8,
   "metadata": {},
   "outputs": [
    {
     "name": "stdout",
     "output_type": "stream",
     "text": [
      "[1. 2. 3.]\n",
      "[[1. 0. 0.]\n",
      " [0. 1. 0.]\n",
      " [0. 0. 1.]]\n"
     ]
    }
   ],
   "source": [
    "#Eigenvalue decomposition\n",
    "\n",
    "import numpy as np\n",
    "from numpy import linalg as LA\n",
    "\n",
    "w, v = LA.eig(np.diag((1, 2, 3)))\n",
    "print(w)\n",
    "print(v)\n"
   ]
  },
  {
   "cell_type": "code",
   "execution_count": 9,
   "metadata": {},
   "outputs": [
    {
     "name": "stdout",
     "output_type": "stream",
     "text": [
      "[1.+1.j 1.-1.j]\n",
      "[[0.70710678+0.j         0.70710678-0.j        ]\n",
      " [0.        -0.70710678j 0.        +0.70710678j]]\n"
     ]
    }
   ],
   "source": [
    "w, v = LA.eig(np.array([[1, -1], [1, 1]]))\n",
    "print(w)\n",
    "print(v)"
   ]
  },
  {
   "cell_type": "code",
   "execution_count": 11,
   "metadata": {},
   "outputs": [
    {
     "name": "stdout",
     "output_type": "stream",
     "text": [
      "[1. 1.]\n",
      "[[1. 0.]\n",
      " [0. 1.]]\n"
     ]
    }
   ],
   "source": [
    "a = np.array([[1 + 1e-9, 0], [0, 1 - 1e-9]])\n",
    "w, v = LA.eig(a)\n",
    "print(w)\n",
    "print(v)"
   ]
  },
  {
   "cell_type": "code",
   "execution_count": null,
   "metadata": {},
   "outputs": [],
   "source": []
  }
 ],
 "metadata": {
  "kernelspec": {
   "display_name": "Python 3",
   "language": "python",
   "name": "python3"
  },
  "language_info": {
   "codemirror_mode": {
    "name": "ipython",
    "version": 3
   },
   "file_extension": ".py",
   "mimetype": "text/x-python",
   "name": "python",
   "nbconvert_exporter": "python",
   "pygments_lexer": "ipython3",
   "version": "3.7.3"
  }
 },
 "nbformat": 4,
 "nbformat_minor": 2
}
