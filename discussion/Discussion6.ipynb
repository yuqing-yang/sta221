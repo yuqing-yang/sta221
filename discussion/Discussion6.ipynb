{
 "cells": [
  {
   "cell_type": "markdown",
   "metadata": {},
   "source": [
    "## Logistic Regression with penalty"
   ]
  },
  {
   "cell_type": "code",
   "execution_count": 1,
   "metadata": {},
   "outputs": [],
   "source": [
    "import numpy as np\n",
    "import pandas as pd"
   ]
  },
  {
   "cell_type": "code",
   "execution_count": 33,
   "metadata": {},
   "outputs": [
    {
     "data": {
      "text/html": [
       "<div>\n",
       "<style scoped>\n",
       "    .dataframe tbody tr th:only-of-type {\n",
       "        vertical-align: middle;\n",
       "    }\n",
       "\n",
       "    .dataframe tbody tr th {\n",
       "        vertical-align: top;\n",
       "    }\n",
       "\n",
       "    .dataframe thead th {\n",
       "        text-align: right;\n",
       "    }\n",
       "</style>\n",
       "<table border=\"1\" class=\"dataframe\">\n",
       "  <thead>\n",
       "    <tr style=\"text-align: right;\">\n",
       "      <th></th>\n",
       "      <th>age</th>\n",
       "      <th>totalchol</th>\n",
       "      <th>sysBP</th>\n",
       "      <th>weight</th>\n",
       "      <th>height</th>\n",
       "      <th>sedmins</th>\n",
       "      <th>obese</th>\n",
       "      <th>marriage</th>\n",
       "      <th>gender</th>\n",
       "    </tr>\n",
       "  </thead>\n",
       "  <tbody>\n",
       "    <tr>\n",
       "      <th>0</th>\n",
       "      <td>52</td>\n",
       "      <td>193</td>\n",
       "      <td>128</td>\n",
       "      <td>92.300003</td>\n",
       "      <td>152.1</td>\n",
       "      <td>60</td>\n",
       "      <td>obese</td>\n",
       "      <td>other</td>\n",
       "      <td>F</td>\n",
       "    </tr>\n",
       "    <tr>\n",
       "      <th>1</th>\n",
       "      <td>63</td>\n",
       "      <td>194</td>\n",
       "      <td>112</td>\n",
       "      <td>71.099998</td>\n",
       "      <td>151.7</td>\n",
       "      <td>300</td>\n",
       "      <td>obese</td>\n",
       "      <td>married</td>\n",
       "      <td>F</td>\n",
       "    </tr>\n",
       "    <tr>\n",
       "      <th>2</th>\n",
       "      <td>48</td>\n",
       "      <td>225</td>\n",
       "      <td>128</td>\n",
       "      <td>58.099998</td>\n",
       "      <td>162.9</td>\n",
       "      <td>480</td>\n",
       "      <td>normal</td>\n",
       "      <td>divorced</td>\n",
       "      <td>F</td>\n",
       "    </tr>\n",
       "    <tr>\n",
       "      <th>3</th>\n",
       "      <td>21</td>\n",
       "      <td>145</td>\n",
       "      <td>106</td>\n",
       "      <td>79.800003</td>\n",
       "      <td>170.0</td>\n",
       "      <td>120</td>\n",
       "      <td>overweight</td>\n",
       "      <td>married</td>\n",
       "      <td>M</td>\n",
       "    </tr>\n",
       "    <tr>\n",
       "      <th>4</th>\n",
       "      <td>66</td>\n",
       "      <td>224</td>\n",
       "      <td>124</td>\n",
       "      <td>116.200000</td>\n",
       "      <td>160.0</td>\n",
       "      <td>480</td>\n",
       "      <td>obese</td>\n",
       "      <td>widowed</td>\n",
       "      <td>F</td>\n",
       "    </tr>\n",
       "  </tbody>\n",
       "</table>\n",
       "</div>"
      ],
      "text/plain": [
       "   age  totalchol  sysBP      weight  height  sedmins       obese  marriage  \\\n",
       "0   52        193    128   92.300003   152.1       60       obese     other   \n",
       "1   63        194    112   71.099998   151.7      300       obese   married   \n",
       "2   48        225    128   58.099998   162.9      480      normal  divorced   \n",
       "3   21        145    106   79.800003   170.0      120  overweight   married   \n",
       "4   66        224    124  116.200000   160.0      480       obese   widowed   \n",
       "\n",
       "  gender  \n",
       "0      F  \n",
       "1      F  \n",
       "2      F  \n",
       "3      M  \n",
       "4      F  "
      ]
     },
     "execution_count": 33,
     "metadata": {},
     "output_type": "execute_result"
    }
   ],
   "source": [
    "df = pd.read_csv('patients101.csv')\n",
    "X = df[['age','totalchol','sysBP','weight','height']]\n",
    "y = df['gender']\n",
    "df.head()"
   ]
  },
  {
   "cell_type": "code",
   "execution_count": 8,
   "metadata": {},
   "outputs": [],
   "source": [
    "from sklearn.linear_model import LogisticRegression\n",
    "from sklearn.model_selection import train_test_split\n",
    "from sklearn.preprocessing import StandardScaler"
   ]
  },
  {
   "cell_type": "code",
   "execution_count": 31,
   "metadata": {},
   "outputs": [],
   "source": [
    "X_train, X_test, y_train, y_test = train_test_split(X, y, test_size=0.2, random_state=0)"
   ]
  },
  {
   "cell_type": "code",
   "execution_count": 26,
   "metadata": {},
   "outputs": [
    {
     "name": "stdout",
     "output_type": "stream",
     "text": [
      "C: 100\n",
      "Coefficient of each feature: [[ 0.01232554  0.00290189 -0.00150504  0.00757605  0.21101757]]\n",
      "Training accuracy: 0.825\n",
      "Test accuracy: 0.9\n",
      "\n",
      "C: 10\n",
      "Coefficient of each feature: [[ 0.01246809  0.00129636 -0.00469697  0.0090723   0.17908117]]\n",
      "Training accuracy: 0.8125\n",
      "Test accuracy: 0.9\n",
      "\n",
      "C: 1\n",
      "Coefficient of each feature: [[ 0.0078503  -0.0088994  -0.02347107  0.02193238  0.03101687]]\n",
      "Training accuracy: 0.625\n",
      "Test accuracy: 0.45\n",
      "\n",
      "C: 0.1\n",
      "Coefficient of each feature: [[ 0.00222693 -0.00964977 -0.02044225  0.0210727   0.01499966]]\n",
      "Training accuracy: 0.5625\n",
      "Test accuracy: 0.45\n",
      "\n",
      "C: 0.001\n",
      "Coefficient of each feature: [[0. 0. 0. 0. 0.]]\n",
      "Training accuracy: 0.55\n",
      "Test accuracy: 0.45\n",
      "\n"
     ]
    }
   ],
   "source": [
    "C = [100,10, 1, .1, .001]\n",
    "\n",
    "for c in C:\n",
    "    clf = LogisticRegression(penalty='l1', C=c, solver='liblinear',max_iter=500)\n",
    "    clf.fit(X_train, y_train)\n",
    "    print('C:', c)\n",
    "    print('Coefficient of each feature:', clf.coef_)\n",
    "    print('Training accuracy:', clf.score(X_train, y_train))\n",
    "    print('Test accuracy:', clf.score(X_test, y_test))\n",
    "    print('')"
   ]
  },
  {
   "cell_type": "code",
   "execution_count": 27,
   "metadata": {},
   "outputs": [
    {
     "name": "stdout",
     "output_type": "stream",
     "text": [
      "['M' 'M' 'F' 'M' 'M' 'F' 'F' 'F' 'F' 'F' 'F' 'M' 'M' 'M' 'M' 'M' 'F' 'F'\n",
      " 'M' 'M']\n"
     ]
    }
   ],
   "source": [
    "clf = LogisticRegression(penalty='l1', C=100, solver='liblinear',max_iter=500)\n",
    "clf.fit(X_train, y_train)\n",
    "# predict class labels for X_test\n",
    "y_predict = clf.predict(X_test)\n",
    "print(y_predict)\n"
   ]
  },
  {
   "cell_type": "code",
   "execution_count": 28,
   "metadata": {},
   "outputs": [
    {
     "name": "stdout",
     "output_type": "stream",
     "text": [
      "[[0.03349717 0.96650283]\n",
      " [0.34902409 0.65097591]\n",
      " [0.77575793 0.22424207]\n",
      " [0.06089119 0.93910881]\n",
      " [0.01984058 0.98015942]\n",
      " [0.9447032  0.0552968 ]\n",
      " [0.65666215 0.34333785]\n",
      " [0.66456824 0.33543176]\n",
      " [0.67681237 0.32318763]\n",
      " [0.82888616 0.17111384]\n",
      " [0.65855171 0.34144829]\n",
      " [0.43532857 0.56467143]\n",
      " [0.10687769 0.89312231]\n",
      " [0.12656403 0.87343597]\n",
      " [0.31105296 0.68894704]\n",
      " [0.33138799 0.66861201]\n",
      " [0.84816693 0.15183307]\n",
      " [0.97803116 0.02196884]\n",
      " [0.3260018  0.6739982 ]\n",
      " [0.35744298 0.64255702]]\n"
     ]
    }
   ],
   "source": [
    "# get probability estimates\n",
    "print(clf.predict_proba(X_test))"
   ]
  },
  {
   "cell_type": "code",
   "execution_count": 29,
   "metadata": {},
   "outputs": [
    {
     "name": "stdout",
     "output_type": "stream",
     "text": [
      "[[ 0.0123239   0.00290931 -0.00149133  0.00756387  0.21120867]]\n"
     ]
    }
   ],
   "source": [
    "# get coefficients\n",
    "print(clf.coef_)"
   ]
  },
  {
   "cell_type": "code",
   "execution_count": 30,
   "metadata": {},
   "outputs": [
    {
     "name": "stdout",
     "output_type": "stream",
     "text": [
      "0.09999999999999998\n"
     ]
    }
   ],
   "source": [
    "# return misclassfication rate\n",
    "print(1-clf.score(X_test, y_test))"
   ]
  },
  {
   "cell_type": "code",
   "execution_count": 51,
   "metadata": {},
   "outputs": [],
   "source": [
    "X = df[['age','sysBP','weight','height']]\n",
    "y = df['totalchol']"
   ]
  },
  {
   "cell_type": "markdown",
   "metadata": {},
   "source": [
    "## Lasso"
   ]
  },
  {
   "cell_type": "code",
   "execution_count": 63,
   "metadata": {},
   "outputs": [],
   "source": [
    "from sklearn import linear_model\n",
    "from sklearn.model_selection import GridSearchCV\n",
    "from sklearn.metrics import mean_squared_error\n",
    "import matplotlib.pyplot as plt\n"
   ]
  },
  {
   "cell_type": "code",
   "execution_count": 53,
   "metadata": {},
   "outputs": [],
   "source": [
    "X_train, X_test, y_train, y_test = train_test_split(X, y, test_size=0.2, random_state=11)\n"
   ]
  },
  {
   "cell_type": "code",
   "execution_count": 54,
   "metadata": {},
   "outputs": [],
   "source": [
    "parameters = {'alpha': np.concatenate((np.arange(0.1,2,0.1), np.arange(2, 5, 0.5), np.arange(5, 25, 1)))}\n",
    "\n",
    "lasso = linear_model.Lasso()\n",
    "ridge = linear_model.Ridge()\n",
    "gridlasso = GridSearchCV(lasso, parameters, scoring ='r2')\n",
    "gridridge = GridSearchCV(ridge, parameters, scoring ='r2')\n"
   ]
  },
  {
   "cell_type": "code",
   "execution_count": 55,
   "metadata": {},
   "outputs": [
    {
     "data": {
      "text/plain": [
       "GridSearchCV(cv=None, error_score=nan,\n",
       "             estimator=Ridge(alpha=1.0, copy_X=True, fit_intercept=True,\n",
       "                             max_iter=None, normalize=False, random_state=None,\n",
       "                             solver='auto', tol=0.001),\n",
       "             iid='deprecated', n_jobs=None,\n",
       "             param_grid={'alpha': array([ 0.1,  0.2,  0.3,  0.4,  0.5,  0.6,  0.7,  0.8,  0.9,  1. ,  1.1,\n",
       "        1.2,  1.3,  1.4,  1.5,  1.6,  1.7,  1.8,  1.9,  2. ,  2.5,  3. ,\n",
       "        3.5,  4. ,  4.5,  5. ,  6. ,  7. ,  8. ,  9. , 10. , 11. , 12. ,\n",
       "       13. , 14. , 15. , 16. , 17. , 18. , 19. , 20. , 21. , 22. , 23. ,\n",
       "       24. ])},\n",
       "             pre_dispatch='2*n_jobs', refit=True, return_train_score=False,\n",
       "             scoring='r2', verbose=0)"
      ]
     },
     "execution_count": 55,
     "metadata": {},
     "output_type": "execute_result"
    }
   ],
   "source": [
    "gridlasso.fit(X_train, y_train)\n",
    "gridridge.fit(X_train, y_train)"
   ]
  },
  {
   "cell_type": "code",
   "execution_count": 57,
   "metadata": {},
   "outputs": [
    {
     "name": "stdout",
     "output_type": "stream",
     "text": [
      "ridge best parameters: {'alpha': 24.0}\n",
      "lasso best parameters: {'alpha': 7.0}\n",
      "ridge score: -0.2873676166382164\n",
      "lasso score: -0.2583225292462681\n",
      "ridge MSE: 2056.1159704946863\n",
      "lasso MSE: 2009.726681779354\n",
      "ridge best estimator coef: [-1.26520007e-01 -3.29152211e-04  2.08112666e-01 -1.01687890e+00]\n",
      "lasso best estimator coef: [-0.0950309  -0.          0.16691871 -0.91296042]\n"
     ]
    }
   ],
   "source": [
    "print(\"ridge best parameters:\", gridridge.best_params_)\n",
    "print(\"lasso best parameters:\", gridlasso.best_params_)\n",
    "print(\"ridge score:\", gridridge.score(X_test, y_test))\n",
    "print(\"lasso score:\", gridlasso.score(X_test, y_test))\n",
    "print(\"ridge MSE:\", mean_squared_error(y_test, gridridge.predict(X_test)))\n",
    "print(\"lasso MSE:\", mean_squared_error(y_test, gridlasso.predict(X_test)))\n",
    "print(\"ridge best estimator coef:\", gridridge.best_estimator_.coef_)\n",
    "print(\"lasso best estimator coef:\", gridlasso.best_estimator_.coef_)\n"
   ]
  },
  {
   "cell_type": "code",
   "execution_count": 58,
   "metadata": {},
   "outputs": [],
   "source": [
    "from sklearn.linear_model import lars_path\n"
   ]
  },
  {
   "cell_type": "code",
   "execution_count": 62,
   "metadata": {},
   "outputs": [],
   "source": [
    "X = np.array(X)\n",
    "y = np.array(y)\n",
    "larper = lars_path(X,y,method=\"lasso\")\n"
   ]
  },
  {
   "cell_type": "code",
   "execution_count": 66,
   "metadata": {},
   "outputs": [
    {
     "data": {
      "text/plain": [
       "Text(0.5, 1.0, 'Lasso Paths')"
      ]
     },
     "execution_count": 66,
     "metadata": {},
     "output_type": "execute_result"
    },
    {
     "data": {
      "image/png": "[encoded data removed]",
      "text/plain": [
       "<Figure size 432x288 with 1 Axes>"
      ]
     },
     "metadata": {
      "needs_background": "light"
     },
     "output_type": "display_data"
    }
   ],
   "source": [
    "for j in range(larper[2].shape[0]):\n",
    "    plt.plot(larper[0],larper[2][j,:])\n",
    "plt.xlabel('alpha')\n",
    "plt.ylabel('coefficients')\n",
    "plt.title('Lasso Paths')"
   ]
  },
  {
   "cell_type": "code",
   "execution_count": null,
   "metadata": {},
   "outputs": [],
   "source": []
  }
 ],
 "metadata": {
  "kernelspec": {
   "display_name": "IPython (Python 3)",
   "language": "python",
   "name": "python3"
  },
  "language_info": {
   "codemirror_mode": {
    "name": "ipython",
    "version": 3
   },
   "file_extension": ".py",
   "mimetype": "text/x-python",
   "name": "python",
   "nbconvert_exporter": "python",
   "pygments_lexer": "ipython3",
   "version": "3.7.6"
  }
 },
 "nbformat": 4,
 "nbformat_minor": 4
}
