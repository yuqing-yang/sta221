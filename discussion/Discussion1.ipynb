{
 "cells": [
  {
   "cell_type": "code",
   "execution_count": 2,
   "metadata": {},
   "outputs": [],
   "source": [
    "import numpy as np\n",
    "import pandas as pd"
   ]
  },
  {
   "cell_type": "markdown",
   "metadata": {},
   "source": [
    "Reading csv files"
   ]
  },
  {
   "cell_type": "code",
   "execution_count": 3,
   "metadata": {},
   "outputs": [],
   "source": [
    "df=pd.read_csv('patients101.csv')"
   ]
  },
  {
   "cell_type": "code",
   "execution_count": 7,
   "metadata": {},
   "outputs": [
    {
     "data": {
      "text/html": [
       "<div>\n",
       "<style scoped>\n",
       "    .dataframe tbody tr th:only-of-type {\n",
       "        vertical-align: middle;\n",
       "    }\n",
       "\n",
       "    .dataframe tbody tr th {\n",
       "        vertical-align: top;\n",
       "    }\n",
       "\n",
       "    .dataframe thead th {\n",
       "        text-align: right;\n",
       "    }\n",
       "</style>\n",
       "<table border=\"1\" class=\"dataframe\">\n",
       "  <thead>\n",
       "    <tr style=\"text-align: right;\">\n",
       "      <th></th>\n",
       "      <th>age</th>\n",
       "      <th>totalchol</th>\n",
       "      <th>sysBP</th>\n",
       "      <th>weight</th>\n",
       "      <th>height</th>\n",
       "      <th>sedmins</th>\n",
       "      <th>obese</th>\n",
       "      <th>marriage</th>\n",
       "      <th>gender</th>\n",
       "    </tr>\n",
       "  </thead>\n",
       "  <tbody>\n",
       "    <tr>\n",
       "      <th>0</th>\n",
       "      <td>52</td>\n",
       "      <td>193</td>\n",
       "      <td>128</td>\n",
       "      <td>92.300003</td>\n",
       "      <td>152.1</td>\n",
       "      <td>60</td>\n",
       "      <td>obese</td>\n",
       "      <td>other</td>\n",
       "      <td>F</td>\n",
       "    </tr>\n",
       "    <tr>\n",
       "      <th>1</th>\n",
       "      <td>63</td>\n",
       "      <td>194</td>\n",
       "      <td>112</td>\n",
       "      <td>71.099998</td>\n",
       "      <td>151.7</td>\n",
       "      <td>300</td>\n",
       "      <td>obese</td>\n",
       "      <td>married</td>\n",
       "      <td>F</td>\n",
       "    </tr>\n",
       "    <tr>\n",
       "      <th>2</th>\n",
       "      <td>48</td>\n",
       "      <td>225</td>\n",
       "      <td>128</td>\n",
       "      <td>58.099998</td>\n",
       "      <td>162.9</td>\n",
       "      <td>480</td>\n",
       "      <td>normal</td>\n",
       "      <td>divorced</td>\n",
       "      <td>F</td>\n",
       "    </tr>\n",
       "    <tr>\n",
       "      <th>3</th>\n",
       "      <td>21</td>\n",
       "      <td>145</td>\n",
       "      <td>106</td>\n",
       "      <td>79.800003</td>\n",
       "      <td>170.0</td>\n",
       "      <td>120</td>\n",
       "      <td>overweight</td>\n",
       "      <td>married</td>\n",
       "      <td>M</td>\n",
       "    </tr>\n",
       "    <tr>\n",
       "      <th>4</th>\n",
       "      <td>66</td>\n",
       "      <td>224</td>\n",
       "      <td>124</td>\n",
       "      <td>116.200000</td>\n",
       "      <td>160.0</td>\n",
       "      <td>480</td>\n",
       "      <td>obese</td>\n",
       "      <td>widowed</td>\n",
       "      <td>F</td>\n",
       "    </tr>\n",
       "    <tr>\n",
       "      <th>5</th>\n",
       "      <td>31</td>\n",
       "      <td>270</td>\n",
       "      <td>118</td>\n",
       "      <td>77.500000</td>\n",
       "      <td>165.8</td>\n",
       "      <td>480</td>\n",
       "      <td>overweight</td>\n",
       "      <td>married</td>\n",
       "      <td>M</td>\n",
       "    </tr>\n",
       "    <tr>\n",
       "      <th>6</th>\n",
       "      <td>64</td>\n",
       "      <td>165</td>\n",
       "      <td>158</td>\n",
       "      <td>88.000000</td>\n",
       "      <td>183.7</td>\n",
       "      <td>20</td>\n",
       "      <td>overweight</td>\n",
       "      <td>married</td>\n",
       "      <td>M</td>\n",
       "    </tr>\n",
       "    <tr>\n",
       "      <th>7</th>\n",
       "      <td>73</td>\n",
       "      <td>241</td>\n",
       "      <td>124</td>\n",
       "      <td>75.800003</td>\n",
       "      <td>170.2</td>\n",
       "      <td>240</td>\n",
       "      <td>overweight</td>\n",
       "      <td>married</td>\n",
       "      <td>M</td>\n",
       "    </tr>\n",
       "    <tr>\n",
       "      <th>8</th>\n",
       "      <td>39</td>\n",
       "      <td>240</td>\n",
       "      <td>122</td>\n",
       "      <td>100.800000</td>\n",
       "      <td>170.3</td>\n",
       "      <td>2</td>\n",
       "      <td>obese</td>\n",
       "      <td>married</td>\n",
       "      <td>F</td>\n",
       "    </tr>\n",
       "    <tr>\n",
       "      <th>9</th>\n",
       "      <td>73</td>\n",
       "      <td>183</td>\n",
       "      <td>196</td>\n",
       "      <td>81.199997</td>\n",
       "      <td>160.6</td>\n",
       "      <td>240</td>\n",
       "      <td>obese</td>\n",
       "      <td>married</td>\n",
       "      <td>F</td>\n",
       "    </tr>\n",
       "  </tbody>\n",
       "</table>\n",
       "</div>"
      ],
      "text/plain": [
       "   age  totalchol  sysBP      weight  height  sedmins       obese  marriage  \\\n",
       "0   52        193    128   92.300003   152.1       60       obese     other   \n",
       "1   63        194    112   71.099998   151.7      300       obese   married   \n",
       "2   48        225    128   58.099998   162.9      480      normal  divorced   \n",
       "3   21        145    106   79.800003   170.0      120  overweight   married   \n",
       "4   66        224    124  116.200000   160.0      480       obese   widowed   \n",
       "5   31        270    118   77.500000   165.8      480  overweight   married   \n",
       "6   64        165    158   88.000000   183.7       20  overweight   married   \n",
       "7   73        241    124   75.800003   170.2      240  overweight   married   \n",
       "8   39        240    122  100.800000   170.3        2       obese   married   \n",
       "9   73        183    196   81.199997   160.6      240       obese   married   \n",
       "\n",
       "  gender  \n",
       "0      F  \n",
       "1      F  \n",
       "2      F  \n",
       "3      M  \n",
       "4      F  \n",
       "5      M  \n",
       "6      M  \n",
       "7      M  \n",
       "8      F  \n",
       "9      F  "
      ]
     },
     "execution_count": 7,
     "metadata": {},
     "output_type": "execute_result"
    }
   ],
   "source": [
    "## checking the first few lines of the csv\n",
    "df.head(10)\n",
    "#df.tail()"
   ]
  },
  {
   "cell_type": "code",
   "execution_count": 9,
   "metadata": {},
   "outputs": [
    {
     "data": {
      "text/plain": [
       "age            int64\n",
       "totalchol      int64\n",
       "sysBP          int64\n",
       "weight       float64\n",
       "height       float64\n",
       "sedmins        int64\n",
       "obese         object\n",
       "marriage      object\n",
       "gender        object\n",
       "dtype: object"
      ]
     },
     "execution_count": 9,
     "metadata": {},
     "output_type": "execute_result"
    }
   ],
   "source": [
    "### checking the type of each column\n",
    "df.dtypes\n",
    "### checking dimensions of df\n",
    "df.shape"
   ]
  },
  {
   "cell_type": "markdown",
   "metadata": {},
   "source": [
    "Run basic linear Regression"
   ]
  },
  {
   "cell_type": "code",
   "execution_count": 10,
   "metadata": {},
   "outputs": [],
   "source": [
    "from sklearn.linear_model import LinearRegression"
   ]
  },
  {
   "cell_type": "code",
   "execution_count": 11,
   "metadata": {},
   "outputs": [],
   "source": [
    "### taking 'age' and 'totalchol' as covariate, 'sysBP' as response\n",
    "X = df[['age','totalchol']]\n",
    "y = df['sysBP']"
   ]
  },
  {
   "cell_type": "code",
   "execution_count": 12,
   "metadata": {},
   "outputs": [
    {
     "data": {
      "text/plain": [
       "LinearRegression(copy_X=True, fit_intercept=True, n_jobs=None, normalize=False)"
      ]
     },
     "execution_count": 12,
     "metadata": {},
     "output_type": "execute_result"
    }
   ],
   "source": [
    "### to run linear model, we need an LinearRegression class\n",
    "linearmodel = LinearRegression()\n",
    "linearmodel.fit(X,y)"
   ]
  },
  {
   "cell_type": "code",
   "execution_count": 15,
   "metadata": {},
   "outputs": [
    {
     "data": {
      "text/plain": [
       "92.99651464509856"
      ]
     },
     "execution_count": 15,
     "metadata": {},
     "output_type": "execute_result"
    }
   ],
   "source": [
    "linearmodel.intercept_"
   ]
  },
  {
   "cell_type": "code",
   "execution_count": 13,
   "metadata": {},
   "outputs": [
    {
     "data": {
      "text/plain": [
       "array([0.63869737, 0.00300319])"
      ]
     },
     "execution_count": 13,
     "metadata": {},
     "output_type": "execute_result"
    }
   ],
   "source": [
    "### checking linear model coefficient\n",
    "linearmodel.coef_"
   ]
  },
  {
   "cell_type": "code",
   "execution_count": 14,
   "metadata": {},
   "outputs": [
    {
     "data": {
      "text/plain": [
       "array([126.7883926 , 133.81706682, 124.32970507, 106.8446213 ,\n",
       "       135.8232545 ])"
      ]
     },
     "execution_count": 14,
     "metadata": {},
     "output_type": "execute_result"
    }
   ],
   "source": [
    "### using our fitted model for prediction\n",
    "linearmodel.predict(X[0:5])"
   ]
  },
  {
   "cell_type": "code",
   "execution_count": 19,
   "metadata": {},
   "outputs": [
    {
     "data": {
      "text/html": [
       "<div>\n",
       "<style scoped>\n",
       "    .dataframe tbody tr th:only-of-type {\n",
       "        vertical-align: middle;\n",
       "    }\n",
       "\n",
       "    .dataframe tbody tr th {\n",
       "        vertical-align: top;\n",
       "    }\n",
       "\n",
       "    .dataframe thead th {\n",
       "        text-align: right;\n",
       "    }\n",
       "</style>\n",
       "<table border=\"1\" class=\"dataframe\">\n",
       "  <thead>\n",
       "    <tr style=\"text-align: right;\">\n",
       "      <th></th>\n",
       "      <th>age</th>\n",
       "      <th>totalchol</th>\n",
       "      <th>gender</th>\n",
       "    </tr>\n",
       "  </thead>\n",
       "  <tbody>\n",
       "    <tr>\n",
       "      <th>0</th>\n",
       "      <td>52</td>\n",
       "      <td>193</td>\n",
       "      <td>F</td>\n",
       "    </tr>\n",
       "    <tr>\n",
       "      <th>1</th>\n",
       "      <td>63</td>\n",
       "      <td>194</td>\n",
       "      <td>F</td>\n",
       "    </tr>\n",
       "    <tr>\n",
       "      <th>2</th>\n",
       "      <td>48</td>\n",
       "      <td>225</td>\n",
       "      <td>F</td>\n",
       "    </tr>\n",
       "    <tr>\n",
       "      <th>3</th>\n",
       "      <td>21</td>\n",
       "      <td>145</td>\n",
       "      <td>M</td>\n",
       "    </tr>\n",
       "    <tr>\n",
       "      <th>4</th>\n",
       "      <td>66</td>\n",
       "      <td>224</td>\n",
       "      <td>F</td>\n",
       "    </tr>\n",
       "  </tbody>\n",
       "</table>\n",
       "</div>"
      ],
      "text/plain": [
       "   age  totalchol gender\n",
       "0   52        193      F\n",
       "1   63        194      F\n",
       "2   48        225      F\n",
       "3   21        145      M\n",
       "4   66        224      F"
      ]
     },
     "execution_count": 19,
     "metadata": {},
     "output_type": "execute_result"
    }
   ],
   "source": [
    "### for discrete data like gender\n",
    "X_1 = df[['age','totalchol','gender']]\n",
    "X_1.head()"
   ]
  },
  {
   "cell_type": "code",
   "execution_count": 20,
   "metadata": {},
   "outputs": [],
   "source": [
    "### the following code will not work\n",
    "#linearmodel.fit(X_1,y)\n",
    "### create dummy variables to deal with discrete value\n",
    "gender_dummy = pd.get_dummies(X_1['gender'])"
   ]
  },
  {
   "cell_type": "code",
   "execution_count": 21,
   "metadata": {},
   "outputs": [
    {
     "data": {
      "text/html": [
       "<div>\n",
       "<style scoped>\n",
       "    .dataframe tbody tr th:only-of-type {\n",
       "        vertical-align: middle;\n",
       "    }\n",
       "\n",
       "    .dataframe tbody tr th {\n",
       "        vertical-align: top;\n",
       "    }\n",
       "\n",
       "    .dataframe thead th {\n",
       "        text-align: right;\n",
       "    }\n",
       "</style>\n",
       "<table border=\"1\" class=\"dataframe\">\n",
       "  <thead>\n",
       "    <tr style=\"text-align: right;\">\n",
       "      <th></th>\n",
       "      <th>age</th>\n",
       "      <th>totalchol</th>\n",
       "      <th>F</th>\n",
       "      <th>M</th>\n",
       "    </tr>\n",
       "  </thead>\n",
       "  <tbody>\n",
       "    <tr>\n",
       "      <th>0</th>\n",
       "      <td>52</td>\n",
       "      <td>193</td>\n",
       "      <td>1</td>\n",
       "      <td>0</td>\n",
       "    </tr>\n",
       "    <tr>\n",
       "      <th>1</th>\n",
       "      <td>63</td>\n",
       "      <td>194</td>\n",
       "      <td>1</td>\n",
       "      <td>0</td>\n",
       "    </tr>\n",
       "    <tr>\n",
       "      <th>2</th>\n",
       "      <td>48</td>\n",
       "      <td>225</td>\n",
       "      <td>1</td>\n",
       "      <td>0</td>\n",
       "    </tr>\n",
       "    <tr>\n",
       "      <th>3</th>\n",
       "      <td>21</td>\n",
       "      <td>145</td>\n",
       "      <td>0</td>\n",
       "      <td>1</td>\n",
       "    </tr>\n",
       "    <tr>\n",
       "      <th>4</th>\n",
       "      <td>66</td>\n",
       "      <td>224</td>\n",
       "      <td>1</td>\n",
       "      <td>0</td>\n",
       "    </tr>\n",
       "  </tbody>\n",
       "</table>\n",
       "</div>"
      ],
      "text/plain": [
       "   age  totalchol  F  M\n",
       "0   52        193  1  0\n",
       "1   63        194  1  0\n",
       "2   48        225  1  0\n",
       "3   21        145  0  1\n",
       "4   66        224  1  0"
      ]
     },
     "execution_count": 21,
     "metadata": {},
     "output_type": "execute_result"
    }
   ],
   "source": [
    "X_1_withDummies = pd.concat([X_1.drop('gender',axis = 1),gender_dummy], axis=1, sort=False)\n",
    "X_1_withDummies.head()"
   ]
  },
  {
   "cell_type": "code",
   "execution_count": 22,
   "metadata": {},
   "outputs": [
    {
     "data": {
      "text/plain": [
       "LinearRegression(copy_X=True, fit_intercept=True, n_jobs=None, normalize=False)"
      ]
     },
     "execution_count": 22,
     "metadata": {},
     "output_type": "execute_result"
    }
   ],
   "source": [
    "linearmodel.fit(X_1_withDummies,y)\n",
    "### remark: after the above fit, your first fit with only 'age' and 'totalchol' is upgraded."
   ]
  },
  {
   "cell_type": "code",
   "execution_count": 23,
   "metadata": {},
   "outputs": [
    {
     "data": {
      "text/plain": [
       "array([ 0.63488443,  0.00425716, -1.02301701,  1.02301701])"
      ]
     },
     "execution_count": 23,
     "metadata": {},
     "output_type": "execute_result"
    }
   ],
   "source": [
    "linearmodel.coef_"
   ]
  },
  {
   "cell_type": "markdown",
   "metadata": {},
   "source": [
    "Exercise: Try other regression like logistic regression with gender as the response"
   ]
  },
  {
   "cell_type": "markdown",
   "metadata": {},
   "source": [
    "Matrix Related"
   ]
  },
  {
   "cell_type": "code",
   "execution_count": 14,
   "metadata": {},
   "outputs": [
    {
     "name": "stdout",
     "output_type": "stream",
     "text": [
      "[[ 0.477782   -0.07423003  0.68949419 -0.89650641 -0.84354297]\n",
      " [ 0.53081157  0.6750859  -0.48336982  0.3289025   0.46911142]\n",
      " [ 0.36522739 -0.3950795  -0.23209361  0.26666139  0.12164777]\n",
      " [ 0.58220347  0.50568844  0.46009943 -0.03088222 -0.11999566]\n",
      " [ 0.13270835 -0.35628685 -0.15935013  0.12663881  0.19792066]]\n"
     ]
    }
   ],
   "source": [
    "np.random.seed(456) # set seed number\n",
    "A = np.random.rand(5,5)*5 # generate a 5-by-5 matrix A\n",
    "\n",
    "## compute eigenvalues and eigenvectors by default method\n",
    "eigenvals, eigenvecs = np.linalg.eig(A)\n",
    "## print the eigenvectors\n",
    "print(eigenvecs)"
   ]
  },
  {
   "cell_type": "code",
   "execution_count": 15,
   "metadata": {},
   "outputs": [
    {
     "name": "stdout",
     "output_type": "stream",
     "text": [
      "[10.93980155  2.1571264   1.32795015 -0.52341536  0.06642139]\n"
     ]
    }
   ],
   "source": [
    "## print the eigenvalues\n",
    "print(eigenvals)"
   ]
  },
  {
   "cell_type": "code",
   "execution_count": 16,
   "metadata": {},
   "outputs": [
    {
     "data": {
      "text/plain": [
       "13.10976091757407"
      ]
     },
     "execution_count": 16,
     "metadata": {},
     "output_type": "execute_result"
    }
   ],
   "source": [
    "### matrix norm\n",
    "np.linalg.norm(A)"
   ]
  },
  {
   "cell_type": "code",
   "execution_count": 17,
   "metadata": {},
   "outputs": [
    {
     "data": {
      "text/plain": [
       "13.10976091757407"
      ]
     },
     "execution_count": 17,
     "metadata": {},
     "output_type": "execute_result"
    }
   ],
   "source": [
    "### the norm function is default to be Frobenius norm\n",
    "np.sqrt(np.sum(A**2))"
   ]
  },
  {
   "cell_type": "code",
   "execution_count": 18,
   "metadata": {},
   "outputs": [
    {
     "data": {
      "text/plain": [
       "19.745225836681367"
      ]
     },
     "execution_count": 18,
     "metadata": {},
     "output_type": "execute_result"
    }
   ],
   "source": [
    "### matrix nuclear norm\n",
    "np.linalg.norm(A,ord = 'nuc')"
   ]
  },
  {
   "cell_type": "markdown",
   "metadata": {},
   "source": [
    "Exercise: nuclear norm of A can be calculated as :\n",
    "$$trace(\\sqrt{A*A})$$\n",
    "Use the formula above to check the nuclear norm with the one calculated by np.linalg.norm"
   ]
  },
  {
   "cell_type": "markdown",
   "metadata": {},
   "source": [
    "PCA"
   ]
  },
  {
   "cell_type": "code",
   "execution_count": 19,
   "metadata": {},
   "outputs": [],
   "source": [
    "from sklearn.decomposition import PCA,KernelPCA"
   ]
  },
  {
   "cell_type": "code",
   "execution_count": 20,
   "metadata": {},
   "outputs": [
    {
     "data": {
      "text/plain": [
       "PCA(copy=True, iterated_power='auto', n_components=5, random_state=None,\n",
       "    svd_solver='auto', tol=0.0, whiten=False)"
      ]
     },
     "execution_count": 20,
     "metadata": {},
     "output_type": "execute_result"
    }
   ],
   "source": [
    "pca = PCA(n_components=5)\n",
    "pca.fit(A)"
   ]
  },
  {
   "cell_type": "code",
   "execution_count": 21,
   "metadata": {},
   "outputs": [
    {
     "data": {
      "text/plain": [
       "array([4.19290602e+00, 3.91564940e+00, 1.64096295e+00, 9.94234693e-01,\n",
       "       2.72616511e-16])"
      ]
     },
     "execution_count": 21,
     "metadata": {},
     "output_type": "execute_result"
    }
   ],
   "source": [
    "pca.singular_values_"
   ]
  },
  {
   "cell_type": "code",
   "execution_count": 22,
   "metadata": {},
   "outputs": [
    {
     "data": {
      "text/plain": [
       "array([4.80418784e-01, 4.18983886e-01, 7.35846574e-02, 2.70126723e-02,\n",
       "       2.03092569e-33])"
      ]
     },
     "execution_count": 22,
     "metadata": {},
     "output_type": "execute_result"
    }
   ],
   "source": [
    "pca.explained_variance_ratio_"
   ]
  },
  {
   "cell_type": "markdown",
   "metadata": {},
   "source": [
    "pca is closely related with the covariance matrix"
   ]
  },
  {
   "cell_type": "code",
   "execution_count": 23,
   "metadata": {},
   "outputs": [],
   "source": [
    "var_A = np.cov(A)"
   ]
  },
  {
   "cell_type": "code",
   "execution_count": 24,
   "metadata": {},
   "outputs": [
    {
     "data": {
      "text/plain": [
       "(array([[-0.63266383,  0.09762752, -0.72857525,  0.24368086,  0.00175856],\n",
       "        [ 0.74662103,  0.0569548 , -0.65743801, -0.05052401,  0.06734821],\n",
       "        [ 0.03287184,  0.83860299,  0.06018111, -0.06682672, -0.53626196],\n",
       "        [-0.20187217, -0.0153911 , -0.14952001, -0.96548082,  0.06709166],\n",
       "        [-0.02146131,  0.53266608,  0.10476341,  0.0380518 ,  0.83867929]]),\n",
       " array([4.15967350e+00, 1.48448199e+00, 1.12406605e+00, 6.13834847e-02,\n",
       "        1.97487468e-16]),\n",
       " array([[-0.63266383,  0.74662103,  0.03287184, -0.20187217, -0.02146131],\n",
       "        [ 0.09762752,  0.0569548 ,  0.83860299, -0.0153911 ,  0.53266608],\n",
       "        [-0.72857525, -0.65743801,  0.06018111, -0.14952001,  0.10476341],\n",
       "        [ 0.24368086, -0.05052401, -0.06682672, -0.96548082,  0.0380518 ],\n",
       "        [-0.00175856, -0.06734821,  0.53626196, -0.06709166, -0.83867929]]))"
      ]
     },
     "execution_count": 24,
     "metadata": {},
     "output_type": "execute_result"
    }
   ],
   "source": [
    "np.linalg.svd(var_A)"
   ]
  },
  {
   "cell_type": "code",
   "execution_count": null,
   "metadata": {},
   "outputs": [],
   "source": []
  }
 ],
 "metadata": {
  "kernelspec": {
   "display_name": "Python 3",
   "language": "python",
   "name": "python3"
  },
  "language_info": {
   "codemirror_mode": {
    "name": "ipython",
    "version": 3
   },
   "file_extension": ".py",
   "mimetype": "text/x-python",
   "name": "python",
   "nbconvert_exporter": "python",
   "pygments_lexer": "ipython3",
   "version": "3.7.3"
  }
 },
 "nbformat": 4,
 "nbformat_minor": 4
}
