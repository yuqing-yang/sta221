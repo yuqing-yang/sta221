{
 "cells": [
  {
   "cell_type": "code",
   "execution_count": 1,
   "metadata": {},
   "outputs": [],
   "source": [
    "import numpy as np\n",
    "import pandas as pd"
   ]
  },
  {
   "cell_type": "code",
   "execution_count": 2,
   "metadata": {},
   "outputs": [
    {
     "data": {
      "text/html": [
       "<div>\n",
       "<style scoped>\n",
       "    .dataframe tbody tr th:only-of-type {\n",
       "        vertical-align: middle;\n",
       "    }\n",
       "\n",
       "    .dataframe tbody tr th {\n",
       "        vertical-align: top;\n",
       "    }\n",
       "\n",
       "    .dataframe thead th {\n",
       "        text-align: right;\n",
       "    }\n",
       "</style>\n",
       "<table border=\"1\" class=\"dataframe\">\n",
       "  <thead>\n",
       "    <tr style=\"text-align: right;\">\n",
       "      <th></th>\n",
       "      <th>age</th>\n",
       "      <th>totalchol</th>\n",
       "      <th>sysBP</th>\n",
       "      <th>weight</th>\n",
       "      <th>height</th>\n",
       "      <th>sedmins</th>\n",
       "      <th>obese</th>\n",
       "      <th>marriage</th>\n",
       "      <th>gender</th>\n",
       "    </tr>\n",
       "  </thead>\n",
       "  <tbody>\n",
       "    <tr>\n",
       "      <th>0</th>\n",
       "      <td>52</td>\n",
       "      <td>193</td>\n",
       "      <td>128</td>\n",
       "      <td>92.300003</td>\n",
       "      <td>152.1</td>\n",
       "      <td>60</td>\n",
       "      <td>obese</td>\n",
       "      <td>other</td>\n",
       "      <td>F</td>\n",
       "    </tr>\n",
       "    <tr>\n",
       "      <th>1</th>\n",
       "      <td>63</td>\n",
       "      <td>194</td>\n",
       "      <td>112</td>\n",
       "      <td>71.099998</td>\n",
       "      <td>151.7</td>\n",
       "      <td>300</td>\n",
       "      <td>obese</td>\n",
       "      <td>married</td>\n",
       "      <td>F</td>\n",
       "    </tr>\n",
       "    <tr>\n",
       "      <th>2</th>\n",
       "      <td>48</td>\n",
       "      <td>225</td>\n",
       "      <td>128</td>\n",
       "      <td>58.099998</td>\n",
       "      <td>162.9</td>\n",
       "      <td>480</td>\n",
       "      <td>normal</td>\n",
       "      <td>divorced</td>\n",
       "      <td>F</td>\n",
       "    </tr>\n",
       "    <tr>\n",
       "      <th>3</th>\n",
       "      <td>21</td>\n",
       "      <td>145</td>\n",
       "      <td>106</td>\n",
       "      <td>79.800003</td>\n",
       "      <td>170.0</td>\n",
       "      <td>120</td>\n",
       "      <td>overweight</td>\n",
       "      <td>married</td>\n",
       "      <td>M</td>\n",
       "    </tr>\n",
       "    <tr>\n",
       "      <th>4</th>\n",
       "      <td>66</td>\n",
       "      <td>224</td>\n",
       "      <td>124</td>\n",
       "      <td>116.200000</td>\n",
       "      <td>160.0</td>\n",
       "      <td>480</td>\n",
       "      <td>obese</td>\n",
       "      <td>widowed</td>\n",
       "      <td>F</td>\n",
       "    </tr>\n",
       "  </tbody>\n",
       "</table>\n",
       "</div>"
      ],
      "text/plain": [
       "   age  totalchol  sysBP      weight  height  sedmins       obese  marriage  \\\n",
       "0   52        193    128   92.300003   152.1       60       obese     other   \n",
       "1   63        194    112   71.099998   151.7      300       obese   married   \n",
       "2   48        225    128   58.099998   162.9      480      normal  divorced   \n",
       "3   21        145    106   79.800003   170.0      120  overweight   married   \n",
       "4   66        224    124  116.200000   160.0      480       obese   widowed   \n",
       "\n",
       "  gender  \n",
       "0      F  \n",
       "1      F  \n",
       "2      F  \n",
       "3      M  \n",
       "4      F  "
      ]
     },
     "execution_count": 2,
     "metadata": {},
     "output_type": "execute_result"
    }
   ],
   "source": [
    "df = pd.read_csv('patients101.csv')\n",
    "X = df[['age','totalchol','sysBP','weight','height']]\n",
    "y = df['gender']\n",
    "df.head()"
   ]
  },
  {
   "cell_type": "markdown",
   "metadata": {},
   "source": [
    "## Support Vector Machine"
   ]
  },
  {
   "cell_type": "code",
   "execution_count": 4,
   "metadata": {},
   "outputs": [],
   "source": [
    "from sklearn import svm\n",
    "from sklearn.model_selection import train_test_split"
   ]
  },
  {
   "cell_type": "code",
   "execution_count": 5,
   "metadata": {},
   "outputs": [],
   "source": [
    "X_train, X_test, y_train, y_test = train_test_split(X, y, test_size=0.2, random_state=0)"
   ]
  },
  {
   "cell_type": "code",
   "execution_count": 6,
   "metadata": {},
   "outputs": [],
   "source": [
    "clf_svm = svm.SVC(kernel='linear', C=1).fit(X_train, y_train) "
   ]
  },
  {
   "cell_type": "code",
   "execution_count": 9,
   "metadata": {},
   "outputs": [
    {
     "data": {
      "text/plain": [
       "array(['M', 'M', 'F', 'M', 'M', 'F', 'F', 'F', 'F', 'F', 'F', 'M', 'M',\n",
       "       'M', 'M', 'M', 'F', 'F', 'M', 'M'], dtype=object)"
      ]
     },
     "execution_count": 9,
     "metadata": {},
     "output_type": "execute_result"
    }
   ],
   "source": [
    "# predict the test data\n",
    "clf_svm.predict(X_test)"
   ]
  },
  {
   "cell_type": "code",
   "execution_count": 10,
   "metadata": {},
   "outputs": [
    {
     "name": "stdout",
     "output_type": "stream",
     "text": [
      "0.9\n"
     ]
    }
   ],
   "source": [
    "# return the mean accuracy on the given test data and labels\n",
    "print(clf_svm.score(X_test, y_test))"
   ]
  },
  {
   "cell_type": "code",
   "execution_count": 11,
   "metadata": {},
   "outputs": [
    {
     "name": "stdout",
     "output_type": "stream",
     "text": [
      "[[ 27.       153.       112.        98.400002 167.1     ]\n",
      " [ 38.       186.       108.        99.800003 177.6     ]\n",
      " [ 33.       173.       104.        66.5      165.2     ]\n",
      " [ 66.       224.       124.       116.2      160.      ]\n",
      " [ 54.       171.       134.        67.599998 180.7     ]\n",
      " [ 20.       187.       124.        99.5      165.      ]\n",
      " [ 78.       276.       128.        75.199997 168.8     ]\n",
      " [ 60.       264.       118.        78.699997 159.      ]\n",
      " [ 61.       193.       130.        55.200001 160.6     ]\n",
      " [ 39.       152.       118.        80.099998 169.      ]\n",
      " [ 41.       182.        92.        67.800003 165.3     ]\n",
      " [ 35.       211.       136.        78.800003 166.6     ]\n",
      " [ 80.       194.       170.        62.5      160.1     ]\n",
      " [ 56.       238.       170.       108.5      161.1     ]\n",
      " [ 45.       178.       116.        90.199997 172.8     ]\n",
      " [ 31.       201.       106.        80.400002 175.8     ]\n",
      " [ 58.       179.       142.       106.       167.2     ]\n",
      " [ 59.       266.       138.        78.       166.1     ]\n",
      " [ 20.       175.       114.        75.5      170.3     ]\n",
      " [ 21.       145.       106.        79.800003 170.      ]\n",
      " [ 45.       180.       120.       129.2      173.4     ]\n",
      " [ 39.       267.       122.        91.5      173.5     ]\n",
      " [ 23.       198.        96.        66.900002 163.9     ]\n",
      " [ 37.       237.       120.        78.       153.1     ]\n",
      " [ 73.       148.       176.        91.300003 167.4     ]\n",
      " [ 28.       236.       124.       100.8      169.7     ]\n",
      " [ 31.       270.       118.        77.5      165.8     ]\n",
      " [ 62.       240.       174.        76.900002 169.6     ]\n",
      " [ 75.       184.       138.        76.699997 166.6     ]\n",
      " [ 50.       185.       106.        75.699997 171.5     ]\n",
      " [ 42.       264.       110.        82.800003 171.7     ]\n",
      " [ 26.       164.       110.        55.700001 168.3     ]\n",
      " [ 41.       239.       118.       100.6      164.4     ]\n",
      " [ 28.       154.       110.        79.900002 168.9     ]\n",
      " [ 80.       158.       150.        82.800003 168.      ]\n",
      " [ 58.       204.       132.        87.099998 170.8     ]\n",
      " [ 76.       133.       118.        94.199997 169.1     ]]\n"
     ]
    }
   ],
   "source": [
    "# get support vectors\n",
    "print(clf_svm.support_vectors_)"
   ]
  },
  {
   "cell_type": "markdown",
   "metadata": {},
   "source": [
    "## Decision Tree"
   ]
  },
  {
   "cell_type": "code",
   "execution_count": 13,
   "metadata": {},
   "outputs": [],
   "source": [
    "from sklearn.model_selection import cross_val_score\n",
    "from sklearn.tree import DecisionTreeClassifier"
   ]
  },
  {
   "cell_type": "code",
   "execution_count": 16,
   "metadata": {},
   "outputs": [
    {
     "data": {
      "text/plain": [
       "DecisionTreeClassifier(ccp_alpha=0.0, class_weight=None, criterion='gini',\n",
       "                       max_depth=None, max_features=None, max_leaf_nodes=None,\n",
       "                       min_impurity_decrease=0.0, min_impurity_split=None,\n",
       "                       min_samples_leaf=1, min_samples_split=2,\n",
       "                       min_weight_fraction_leaf=0.0, presort='deprecated',\n",
       "                       random_state=0, splitter='best')"
      ]
     },
     "execution_count": 16,
     "metadata": {},
     "output_type": "execute_result"
    }
   ],
   "source": [
    "clf = DecisionTreeClassifier(random_state=0)\n",
    "clf.fit(X_train,y_train)"
   ]
  },
  {
   "cell_type": "code",
   "execution_count": 17,
   "metadata": {},
   "outputs": [
    {
     "data": {
      "text/plain": [
       "0.75"
      ]
     },
     "execution_count": 17,
     "metadata": {},
     "output_type": "execute_result"
    }
   ],
   "source": [
    "## print the mean accuracy\n",
    "clf.score(X_test,y_test)"
   ]
  },
  {
   "cell_type": "code",
   "execution_count": 23,
   "metadata": {},
   "outputs": [
    {
     "data": {
      "text/plain": [
       "array(['M', 'M', 'F', 'F', 'M', 'F', 'F', 'F', 'F', 'F', 'F', 'M', 'M',\n",
       "       'F', 'M', 'F', 'F', 'F', 'M', 'M'], dtype=object)"
      ]
     },
     "execution_count": 23,
     "metadata": {},
     "output_type": "execute_result"
    }
   ],
   "source": [
    "# predict the test data\n",
    "clf.predict(X_test)"
   ]
  },
  {
   "cell_type": "markdown",
   "metadata": {},
   "source": [
    "## Random Forest"
   ]
  },
  {
   "cell_type": "code",
   "execution_count": 19,
   "metadata": {},
   "outputs": [],
   "source": [
    "from sklearn.ensemble import RandomForestClassifier"
   ]
  },
  {
   "cell_type": "code",
   "execution_count": 20,
   "metadata": {},
   "outputs": [
    {
     "data": {
      "text/plain": [
       "RandomForestClassifier(bootstrap=True, ccp_alpha=0.0, class_weight=None,\n",
       "                       criterion='gini', max_depth=None, max_features='auto',\n",
       "                       max_leaf_nodes=None, max_samples=None,\n",
       "                       min_impurity_decrease=0.0, min_impurity_split=None,\n",
       "                       min_samples_leaf=1, min_samples_split=2,\n",
       "                       min_weight_fraction_leaf=0.0, n_estimators=100,\n",
       "                       n_jobs=None, oob_score=False, random_state=None,\n",
       "                       verbose=0, warm_start=False)"
      ]
     },
     "execution_count": 20,
     "metadata": {},
     "output_type": "execute_result"
    }
   ],
   "source": [
    "## tuning parameter for RF:\n",
    "## n_estimators\n",
    "## max_depth\n",
    "## max_features\n",
    "clf_RF = RandomForestClassifier()\n",
    "clf_RF.fit(X_train,y_train)"
   ]
  },
  {
   "cell_type": "code",
   "execution_count": 24,
   "metadata": {},
   "outputs": [
    {
     "data": {
      "text/plain": [
       "array(['M', 'M', 'F', 'M', 'M', 'F', 'F', 'F', 'F', 'F', 'F', 'M', 'M',\n",
       "       'M', 'M', 'M', 'F', 'F', 'M', 'M'], dtype=object)"
      ]
     },
     "execution_count": 24,
     "metadata": {},
     "output_type": "execute_result"
    }
   ],
   "source": [
    "# predict the test data\n",
    "clf_RF.predict(X_test)"
   ]
  },
  {
   "cell_type": "code",
   "execution_count": 25,
   "metadata": {},
   "outputs": [
    {
     "data": {
      "text/plain": [
       "0.9"
      ]
     },
     "execution_count": 25,
     "metadata": {},
     "output_type": "execute_result"
    }
   ],
   "source": [
    "clf_RF.score(X_test,y_test)"
   ]
  },
  {
   "cell_type": "markdown",
   "metadata": {},
   "source": [
    "## GBDF"
   ]
  },
  {
   "cell_type": "code",
   "execution_count": 26,
   "metadata": {},
   "outputs": [],
   "source": [
    "from sklearn.ensemble import GradientBoostingClassifier"
   ]
  },
  {
   "cell_type": "code",
   "execution_count": 27,
   "metadata": {},
   "outputs": [
    {
     "data": {
      "text/plain": [
       "GradientBoostingClassifier(ccp_alpha=0.0, criterion='friedman_mse', init=None,\n",
       "                           learning_rate=0.1, loss='deviance', max_depth=3,\n",
       "                           max_features=None, max_leaf_nodes=None,\n",
       "                           min_impurity_decrease=0.0, min_impurity_split=None,\n",
       "                           min_samples_leaf=1, min_samples_split=2,\n",
       "                           min_weight_fraction_leaf=0.0, n_estimators=100,\n",
       "                           n_iter_no_change=None, presort='deprecated',\n",
       "                           random_state=0, subsample=1.0, tol=0.0001,\n",
       "                           validation_fraction=0.1, verbose=0,\n",
       "                           warm_start=False)"
      ]
     },
     "execution_count": 27,
     "metadata": {},
     "output_type": "execute_result"
    }
   ],
   "source": [
    "## tuning parameter for GBDF:\n",
    "## learning_rate/n_estimators\n",
    "## min_samples_split\n",
    "## max_depth\n",
    "## max_features\n",
    "clf_GBDF = GradientBoostingClassifier(random_state=0)\n",
    "clf_GBDF.fit(X_train,y_train)"
   ]
  },
  {
   "cell_type": "code",
   "execution_count": 28,
   "metadata": {},
   "outputs": [
    {
     "data": {
      "text/plain": [
       "0.9"
      ]
     },
     "execution_count": 28,
     "metadata": {},
     "output_type": "execute_result"
    }
   ],
   "source": [
    "clf_GBDF.score(X_test,y_test)"
   ]
  },
  {
   "cell_type": "code",
   "execution_count": null,
   "metadata": {},
   "outputs": [],
   "source": []
  }
 ],
 "metadata": {
  "kernelspec": {
   "display_name": "IPython (Python 3)",
   "language": "python",
   "name": "python3"
  },
  "language_info": {
   "codemirror_mode": {
    "name": "ipython",
    "version": 3
   },
   "file_extension": ".py",
   "mimetype": "text/x-python",
   "name": "python",
   "nbconvert_exporter": "python",
   "pygments_lexer": "ipython3",
   "version": "3.7.6"
  }
 },
 "nbformat": 4,
 "nbformat_minor": 4
}
