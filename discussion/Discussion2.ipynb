{
 "cells": [
  {
   "cell_type": "markdown",
   "metadata": {},
   "source": [
    "Let's use the Power method as start"
   ]
  },
  {
   "cell_type": "code",
   "execution_count": 1,
   "metadata": {},
   "outputs": [],
   "source": [
    "import numpy as np\n",
    "%matplotlib inline\n",
    "import matplotlib.pyplot as plt\n",
    "import time"
   ]
  },
  {
   "cell_type": "code",
   "execution_count": 2,
   "metadata": {},
   "outputs": [],
   "source": [
    "def power_iteration(A,v0,niter=50):\n",
    "    v = v0\n",
    "    vv = [v0]\n",
    "    ll = [np.dot(v0,np.dot(A,v0))]\n",
    "    for k in range(niter):\n",
    "        w = np.dot(A,v)\n",
    "        v = w/np.linalg.norm(w)\n",
    "        lamda = np.dot(v,np.dot(A,v))\n",
    "        vv.append(v)\n",
    "        ll.append(lamda)\n",
    "    return ll, vv"
   ]
  },
  {
   "cell_type": "code",
   "execution_count": 3,
   "metadata": {},
   "outputs": [
    {
     "name": "stdout",
     "output_type": "stream",
     "text": [
      "timecost: 0.015258073806762695\n"
     ]
    },
    {
     "data": {
      "image/png": "[encoded data removed]",
      "text/plain": [
       "<Figure size 432x288 with 1 Axes>"
      ]
     },
     "metadata": {
      "needs_background": "light"
     },
     "output_type": "display_data"
    }
   ],
   "source": [
    "A = np.random.rand(5,5)*5 # generate a 5-by-5 matrix A\n",
    "start = time.time()\n",
    "ll, vv = power_iteration(A,np.ones(5))\n",
    "end = time.time()\n",
    "print('timecost:',end - start)\n",
    "plt.plot(range(len(ll)),ll,'-o')\n",
    "plt.ylabel('Eigenvalue approximation')\n",
    "plt.xlabel('Iteration');\n",
    "plt.savefig('smallMatrix')"
   ]
  },
  {
   "cell_type": "markdown",
   "metadata": {},
   "source": [
    "How much time does above algorithm cost for large matrix?"
   ]
  },
  {
   "cell_type": "code",
   "execution_count": 11,
   "metadata": {},
   "outputs": [
    {
     "name": "stdout",
     "output_type": "stream",
     "text": [
      "timecost: 0.0778818130493164\n"
     ]
    },
    {
     "data": {
      "image/png": "[encoded data removed]",
      "text/plain": [
       "<Figure size 432x288 with 1 Axes>"
      ]
     },
     "metadata": {
      "needs_background": "light"
     },
     "output_type": "display_data"
    }
   ],
   "source": [
    "m = 1000\n",
    "A = np.random.rand(m,m)*5 # generate a 5-by-5 matrix A\n",
    "start = time.time()\n",
    "ll, vv = power_iteration(A,np.ones(m))\n",
    "end = time.time()\n",
    "print('timecost:',end - start)\n",
    "plt.plot(range(len(ll)),ll,'-o')\n",
    "plt.ylabel('Eigenvalue approximation')\n",
    "plt.xlabel('Iteration');\n",
    "plt.savefig('largeMatrix')"
   ]
  },
  {
   "cell_type": "code",
   "execution_count": 9,
   "metadata": {},
   "outputs": [],
   "source": [
    "np.save('lambda',ll)"
   ]
  },
  {
   "cell_type": "code",
   "execution_count": 7,
   "metadata": {},
   "outputs": [
    {
     "data": {
      "text/plain": [
       "array([2499312.26965032,    2499.32053174,    2499.32082263,\n",
       "          2499.32082346,    2499.32082291,    2499.32082291,\n",
       "          2499.32082291,    2499.32082291,    2499.32082291,\n",
       "          2499.32082291,    2499.32082291,    2499.32082291,\n",
       "          2499.32082291,    2499.32082291,    2499.32082291,\n",
       "          2499.32082291,    2499.32082291,    2499.32082291,\n",
       "          2499.32082291,    2499.32082291,    2499.32082291,\n",
       "          2499.32082291,    2499.32082291,    2499.32082291,\n",
       "          2499.32082291,    2499.32082291,    2499.32082291,\n",
       "          2499.32082291,    2499.32082291,    2499.32082291,\n",
       "          2499.32082291,    2499.32082291,    2499.32082291,\n",
       "          2499.32082291,    2499.32082291,    2499.32082291,\n",
       "          2499.32082291,    2499.32082291,    2499.32082291,\n",
       "          2499.32082291,    2499.32082291,    2499.32082291,\n",
       "          2499.32082291,    2499.32082291,    2499.32082291,\n",
       "          2499.32082291,    2499.32082291,    2499.32082291,\n",
       "          2499.32082291,    2499.32082291,    2499.32082291])"
      ]
     },
     "execution_count": 7,
     "metadata": {},
     "output_type": "execute_result"
    }
   ],
   "source": [
    "np.load('lambda.npy')"
   ]
  },
  {
   "cell_type": "markdown",
   "metadata": {},
   "source": [
    "Basic Server command can be found at :\n",
    "    https://anson.ucdavis.edu/systems/linuxcheatsheet/\n",
    "    \n",
    "We will do the following:\n",
    "1. use command 'scp' to upload the py file'Discussion2.py' to server alan\n",
    "2. submit python jobs on alan\n",
    "3. use command 'scp' to download the outcome to local pc"
   ]
  },
  {
   "cell_type": "code",
   "execution_count": null,
   "metadata": {},
   "outputs": [],
   "source": []
  }
 ],
 "metadata": {
  "kernelspec": {
   "display_name": "IPython (Python 3)",
   "language": "python",
   "name": "python3"
  },
  "language_info": {
   "codemirror_mode": {
    "name": "ipython",
    "version": 3
   },
   "file_extension": ".py",
   "mimetype": "text/x-python",
   "name": "python",
   "nbconvert_exporter": "python",
   "pygments_lexer": "ipython3",
   "version": "3.7.6"
  }
 },
 "nbformat": 4,
 "nbformat_minor": 4
}
