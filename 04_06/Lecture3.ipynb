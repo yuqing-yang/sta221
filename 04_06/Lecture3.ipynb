{
 "cells": [
  {
   "cell_type": "code",
   "execution_count": 9,
   "metadata": {
    "scrolled": true
   },
   "outputs": [
    {
     "data": {
      "image/png": "[encoded data removed]",
      "text/plain": [
       "<Figure size 432x288 with 1 Axes>"
      ]
     },
     "metadata": {},
     "output_type": "display_data"
    }
   ],
   "source": [
    "import networkx as nx\n",
    "g = nx.random_lobster(3,0.9,0.9) #generates a lobster graph http://mathworld.wolfram.com/LobsterGraph.html\n",
    "nx.draw(g)"
   ]
  },
  {
   "cell_type": "code",
   "execution_count": 11,
   "metadata": {},
   "outputs": [
    {
     "name": "stdout",
     "output_type": "stream",
     "text": [
      "  (0, 1)\t1\n",
      "  (0, 4)\t1\n",
      "  (1, 0)\t1\n",
      "  (1, 2)\t1\n",
      "  (1, 6)\t1\n",
      "  (2, 1)\t1\n",
      "  (2, 3)\t1\n",
      "  (2, 8)\t1\n",
      "  (3, 2)\t1\n",
      "  (3, 10)\t1\n",
      "  (4, 0)\t1\n",
      "  (4, 5)\t1\n",
      "  (5, 4)\t1\n",
      "  (6, 1)\t1\n",
      "  (6, 7)\t1\n",
      "  (7, 6)\t1\n",
      "  (8, 2)\t1\n",
      "  (8, 9)\t1\n",
      "  (9, 8)\t1\n",
      "  (10, 3)\t1\n",
      "  (10, 11)\t1\n",
      "  (11, 10)\t1\n"
     ]
    }
   ],
   "source": [
    "m = nx.adjacency_matrix(g)\n",
    "print(m) ## listed entrywise. Typically, the size of adjacency matrices are too large with lot of zeros (think of facebook) "
   ]
  },
  {
   "cell_type": "code",
   "execution_count": 12,
   "metadata": {},
   "outputs": [
    {
     "data": {
      "text/plain": [
       "matrix([[0, 1, 0, 0, 1, 0, 0, 0, 0, 0, 0, 0],\n",
       "        [1, 0, 1, 0, 0, 0, 1, 0, 0, 0, 0, 0],\n",
       "        [0, 1, 0, 1, 0, 0, 0, 0, 1, 0, 0, 0],\n",
       "        [0, 0, 1, 0, 0, 0, 0, 0, 0, 0, 1, 0],\n",
       "        [1, 0, 0, 0, 0, 1, 0, 0, 0, 0, 0, 0],\n",
       "        [0, 0, 0, 0, 1, 0, 0, 0, 0, 0, 0, 0],\n",
       "        [0, 1, 0, 0, 0, 0, 0, 1, 0, 0, 0, 0],\n",
       "        [0, 0, 0, 0, 0, 0, 1, 0, 0, 0, 0, 0],\n",
       "        [0, 0, 1, 0, 0, 0, 0, 0, 0, 1, 0, 0],\n",
       "        [0, 0, 0, 0, 0, 0, 0, 0, 1, 0, 0, 0],\n",
       "        [0, 0, 0, 1, 0, 0, 0, 0, 0, 0, 0, 1],\n",
       "        [0, 0, 0, 0, 0, 0, 0, 0, 0, 0, 1, 0]], dtype=int64)"
      ]
     },
     "execution_count": 12,
     "metadata": {},
     "output_type": "execute_result"
    }
   ],
   "source": [
    "m.todense() #converts into a regular matrix format."
   ]
  },
  {
   "cell_type": "code",
   "execution_count": 14,
   "metadata": {},
   "outputs": [
    {
     "data": {
      "text/plain": [
       "array([[ 0,  9,  0,  0,  0,  0,  0,  7,  0,  0,  0,  0,  0,  0,  0],\n",
       "       [ 3,  0,  0,  0,  1,  0,  0,  0,  6,  4,  0,  0,  0,  0,  0],\n",
       "       [ 8,  0,  9,  0,  0,  0,  0,  0,  0,  0,  0,  0,  0,  0, 12],\n",
       "       [ 0,  0,  0,  0,  0,  0,  0,  0,  0,  9,  0,  0,  0,  0,  0],\n",
       "       [ 0,  6,  0,  0,  0,  0,  0,  0,  0,  0,  0,  0,  0,  0,  0]])"
      ]
     },
     "execution_count": 14,
     "metadata": {},
     "output_type": "execute_result"
    }
   ],
   "source": [
    "#creating sparse matrices\n",
    "import numpy as np\n",
    "A = np.random.poisson(0.2, (5,15)) * np.random.randint(0, 10, (5, 15))\n",
    "A"
   ]
  },
  {
   "cell_type": "code",
   "execution_count": 16,
   "metadata": {},
   "outputs": [
    {
     "name": "stdout",
     "output_type": "stream",
     "text": [
      "values are [ 9  7  3  1  6  4  8  9 12  9  6]\n",
      "row indices are [0 0 1 1 1 1 2 2 2 3 4]\n",
      "column indices are [ 1  7  0  4  8  9  0  2 14  9  1]\n"
     ]
    }
   ],
   "source": [
    "import numpy as np\n",
    "rows, cols = np.nonzero(A)\n",
    "vals = A[rows, cols] \n",
    "print(\"values are\", vals)\n",
    "print(\"row indices are\", rows)\n",
    "print(\"column indices are\", cols)\n",
    "\n"
   ]
  },
  {
   "cell_type": "code",
   "execution_count": 17,
   "metadata": {},
   "outputs": [
    {
     "name": "stdout",
     "output_type": "stream",
     "text": [
      "  (0, 1)\t9\n",
      "  (0, 7)\t7\n",
      "  (1, 0)\t3\n",
      "  (1, 4)\t1\n",
      "  (1, 8)\t6\n",
      "  (1, 9)\t4\n",
      "  (2, 0)\t8\n",
      "  (2, 2)\t9\n",
      "  (2, 14)\t12\n",
      "  (3, 9)\t9\n",
      "  (4, 1)\t6\n"
     ]
    }
   ],
   "source": [
    "import scipy\n",
    "X1 = scipy.sparse.coo_matrix(A) #sparse matrix in COOrdinate format. see also https://docs.scipy.org/doc/scipy/reference/generated/scipy.sparse.coo_matrix.html\n",
    "print(X1)"
   ]
  },
  {
   "cell_type": "markdown",
   "metadata": {},
   "source": [
    "Trick with dense and sparse matrix conversion: When indices are repeated in a sparse matrix, they are summed."
   ]
  },
  {
   "cell_type": "code",
   "execution_count": 95,
   "metadata": {},
   "outputs": [],
   "source": [
    "rows = np.repeat([0,1], 4)\n",
    "cols = np.repeat([0,1], 4)\n",
    "vals = np.arange(8)"
   ]
  },
  {
   "cell_type": "code",
   "execution_count": 96,
   "metadata": {},
   "outputs": [
    {
     "data": {
      "text/plain": [
       "array([0, 0, 0, 0, 1, 1, 1, 1])"
      ]
     },
     "execution_count": 96,
     "metadata": {},
     "output_type": "execute_result"
    }
   ],
   "source": [
    "rows"
   ]
  },
  {
   "cell_type": "code",
   "execution_count": 97,
   "metadata": {},
   "outputs": [
    {
     "data": {
      "text/plain": [
       "array([0, 0, 0, 0, 1, 1, 1, 1])"
      ]
     },
     "execution_count": 97,
     "metadata": {},
     "output_type": "execute_result"
    }
   ],
   "source": [
    "cols"
   ]
  },
  {
   "cell_type": "code",
   "execution_count": 98,
   "metadata": {},
   "outputs": [
    {
     "data": {
      "text/plain": [
       "array([0, 1, 2, 3, 4, 5, 6, 7])"
      ]
     },
     "execution_count": 98,
     "metadata": {},
     "output_type": "execute_result"
    }
   ],
   "source": [
    "vals"
   ]
  },
  {
   "cell_type": "code",
   "execution_count": 100,
   "metadata": {},
   "outputs": [
    {
     "data": {
      "text/plain": [
       "<2x2 sparse matrix of type '<class 'numpy.int64'>'\n",
       "\twith 8 stored elements in COOrdinate format>"
      ]
     },
     "execution_count": 100,
     "metadata": {},
     "output_type": "execute_result"
    }
   ],
   "source": [
    "X2 = scipy.sparse.coo_matrix((vals, (rows, cols)))\n",
    "X2"
   ]
  },
  {
   "cell_type": "code",
   "execution_count": 101,
   "metadata": {},
   "outputs": [
    {
     "data": {
      "text/plain": [
       "matrix([[ 6,  0],\n",
       "        [ 0, 22]])"
      ]
     },
     "execution_count": 101,
     "metadata": {},
     "output_type": "execute_result"
    }
   ],
   "source": [
    "X2.todense()"
   ]
  },
  {
   "cell_type": "code",
   "execution_count": 1,
   "metadata": {},
   "outputs": [],
   "source": [
    "from sklearn import datasets\n",
    "from sklearn.model_selection import train_test_split\n",
    "from sklearn.neighbors import KNeighborsClassifier\n",
    "\n",
    "iris = datasets.load_iris() # load the so-called iris data set https://en.wikipedia.org/wiki/Iris_flower_data_set\n",
    "knn = KNeighborsClassifier()\n",
    "X_train, X_test, y_train, y_test = train_test_split(iris.data, iris.target, test_size=0.5, random_state=42) #split the dataset randomly into train set and test set.\n",
    "pred = knn.fit(X_train, y_train).predict(X_test) #use a classifier (K-nearest neighbour) to predict the labels of the test set after learing from the training set. "
   ]
  },
  {
   "cell_type": "code",
   "execution_count": 2,
   "metadata": {},
   "outputs": [
    {
     "name": "stdout",
     "output_type": "stream",
     "text": [
      "Predictions are [1 0 2 1 1 0 1 2 1 1 2 0 0 0 0 1 2 1 1 2 0 1 0 2 2 2 2 2 0 0 0 0 1 0 0 2 1\n",
      " 0 0 0 2 1 1 0 0 1 1 2 1 2 1 2 1 0 2 1 0 0 0 1 1 0 0 0 1 0 1 2 0 1 2 0 1 2\n",
      " 1]\n",
      "true values are [1 0 2 1 1 0 1 2 1 1 2 0 0 0 0 1 2 1 1 2 0 2 0 2 2 2 2 2 0 0 0 0 1 0 0 2 1\n",
      " 0 0 0 2 1 1 0 0 1 2 2 1 2 1 2 1 0 2 1 0 0 0 1 2 0 0 0 1 0 1 2 0 1 2 0 2 2\n",
      " 1]\n"
     ]
    }
   ],
   "source": [
    "print(\"Predictions are\", pred)\n",
    "print(\"true values are\", y_test)"
   ]
  },
  {
   "cell_type": "code",
   "execution_count": 6,
   "metadata": {},
   "outputs": [],
   "source": [
    "import scipy\n",
    "import numpy as np"
   ]
  },
  {
   "cell_type": "code",
   "execution_count": 7,
   "metadata": {},
   "outputs": [
    {
     "data": {
      "text/plain": [
       "matrix([[29,  0,  0],\n",
       "        [ 0, 23,  4],\n",
       "        [ 0,  0, 19]])"
      ]
     },
     "execution_count": 7,
     "metadata": {},
     "output_type": "execute_result"
    }
   ],
   "source": [
    "CM = scipy.sparse.coo_matrix((np.ones(len(pred)).astype('int'), (pred, y_test))) #confusion matrix\n",
    "CM.todense()\n",
    "\n",
    "\n"
   ]
  },
  {
   "cell_type": "markdown",
   "metadata": {},
   "source": [
    "We now look at linear system solving and SVD computation."
   ]
  },
  {
   "cell_type": "code",
   "execution_count": 18,
   "metadata": {},
   "outputs": [
    {
     "name": "stdout",
     "output_type": "stream",
     "text": [
      "A = [[0.59044987 0.813295   0.7101663 ]\n",
      " [0.9946058  0.91598355 0.15822149]\n",
      " [0.27242227 0.08414749 0.84077864]]\n",
      "b = [[0.80867234]\n",
      " [0.25749905]\n",
      " [0.33281101]]\n"
     ]
    }
   ],
   "source": [
    "#solving system of linear equations\n",
    "A = np.random.random((3,3))\n",
    "print(\"A =\", A)\n",
    "b = np.random.random((3,1))\n",
    "print(\"b =\", b)"
   ]
  },
  {
   "cell_type": "code",
   "execution_count": 19,
   "metadata": {},
   "outputs": [
    {
     "data": {
      "text/plain": [
       "array([[-0.87879026],\n",
       "       [ 1.13744294],\n",
       "       [ 0.56673666]])"
      ]
     },
     "execution_count": 19,
     "metadata": {},
     "output_type": "execute_result"
    }
   ],
   "source": [
    "np.linalg.solve(A, b)"
   ]
  },
  {
   "cell_type": "code",
   "execution_count": 110,
   "metadata": {},
   "outputs": [
    {
     "name": "stdout",
     "output_type": "stream",
     "text": [
      "[-0.37228132+0.j  5.37228132+0.j]\n",
      "   \n",
      "[[-0.82456484 -0.41597356]\n",
      " [ 0.56576746 -0.90937671]]\n"
     ]
    }
   ],
   "source": [
    "#commands for computing eigenvalue decomposition and singular value decomposition\n",
    "from scipy import linalg\n",
    "\n",
    "A = np.array([[1, 2], [3, 4]]) #create a matrix\n",
    "\n",
    "S, V = linalg.eig(A) # compute eigenvalues and eigenvectors.\n",
    "print(S)\n",
    "print('   ')\n",
    "print(V)"
   ]
  },
  {
   "cell_type": "code",
   "execution_count": 111,
   "metadata": {},
   "outputs": [
    {
     "name": "stdout",
     "output_type": "stream",
     "text": [
      "[9.52551809 0.51430058]\n",
      "   \n",
      "[[-0.2298477   0.88346102  0.40824829]\n",
      " [-0.52474482  0.24078249 -0.81649658]\n",
      " [-0.81964194 -0.40189603  0.40824829]]\n",
      "   \n",
      "[[-0.61962948 -0.78489445]\n",
      " [-0.78489445  0.61962948]]\n"
     ]
    }
   ],
   "source": [
    "A = np.array([[1,2],[3,4], [5,6]])\n",
    "U, S, V = linalg.svd(A) #SVD\n",
    "print(S)\n",
    "print('   ')\n",
    "print(U)\n",
    "print('   ')\n",
    "print(V)"
   ]
  },
  {
   "cell_type": "markdown",
   "metadata": {},
   "source": [
    "In the above, we saw the commands for solving linear systems, computing eigenvalue and singular value decompositions. There is a \"lot\" going on inside each command, when it is used. Take a look at the help manual for those commands to get familiar with different options of the command. "
   ]
  },
  {
   "cell_type": "markdown",
   "metadata": {},
   "source": [
    "## Power Method"
   ]
  },
  {
   "cell_type": "code",
   "execution_count": 1,
   "metadata": {},
   "outputs": [],
   "source": [
    "import numpy as np\n",
    "%matplotlib inline\n",
    "import matplotlib.pyplot as plt\n",
    "\n"
   ]
  },
  {
   "cell_type": "code",
   "execution_count": 2,
   "metadata": {},
   "outputs": [],
   "source": [
    "def power_iteration(A,v0,niter=50):\n",
    "    v = v0\n",
    "    vv = [v0]\n",
    "    ll = [np.dot(v0,np.dot(A,v0))]\n",
    "    for k in range(niter):\n",
    "        w = np.dot(A,v)\n",
    "        v = w/np.linalg.norm(w)\n",
    "        lamda = np.dot(v,np.dot(A,v))  # v^T A v\n",
    "        vv.append(v)\n",
    "        ll.append(lamda)\n",
    "    return ll, vv"
   ]
  },
  {
   "cell_type": "code",
   "execution_count": 3,
   "metadata": {},
   "outputs": [
    {
     "name": "stdout",
     "output_type": "stream",
     "text": [
      "[[2. 1. 1.]\n",
      " [1. 3. 1.]\n",
      " [1. 1. 4.]]\n",
      "[5.21431974 1.32486913 2.46081113]\n"
     ]
    }
   ],
   "source": [
    "A = np.array([[2.,1,1],[1,3,1],[1,1,4]])\n",
    "print(A)\n",
    "print(np.linalg.eigvals(A))\n",
    "lam =(np.linalg.eigvals(A)[0])"
   ]
  },
  {
   "cell_type": "code",
   "execution_count": 4,
   "metadata": {},
   "outputs": [
    {
     "data": {
      "image/png": "[encoded data removed]",
      "text/plain": [
       "<Figure size 432x288 with 1 Axes>"
      ]
     },
     "metadata": {
      "needs_background": "light"
     },
     "output_type": "display_data"
    }
   ],
   "source": [
    "ll, vv = power_iteration(A,np.ones(3))\n",
    "plt.plot(range(len(ll)),ll,'-o')\n",
    "plt.ylabel('Top Eigenvalue')\n",
    "plt.xlabel('Iteration');"
   ]
  },
  {
   "cell_type": "code",
   "execution_count": 5,
   "metadata": {},
   "outputs": [
    {
     "data": {
      "image/png": "[encoded data removed]",
      "text/plain": [
       "<Figure size 432x288 with 1 Axes>"
      ]
     },
     "metadata": {
      "needs_background": "light"
     },
     "output_type": "display_data"
    }
   ],
   "source": [
    "plt.semilogy(np.abs(ll-lam))\n",
    "plt.ylabel('Error'); plt.title('Power iteration')\n",
    "plt.xlabel('Iteration');"
   ]
  },
  {
   "cell_type": "code",
   "execution_count": 11,
   "metadata": {},
   "outputs": [
    {
     "name": "stdout",
     "output_type": "stream",
     "text": [
      "[0.39713873 0.52073975 0.75571883]\n"
     ]
    }
   ],
   "source": [
    "print(vv[10]) ##print the [.] iteration of the top eigenvector computed throught power method."
   ]
  },
  {
   "cell_type": "code",
   "execution_count": 7,
   "metadata": {},
   "outputs": [],
   "source": [
    "V,L = np.linalg.eig(A)"
   ]
  },
  {
   "cell_type": "code",
   "execution_count": 8,
   "metadata": {},
   "outputs": [
    {
     "data": {
      "text/plain": [
       "array([[ 0.39711255,  0.88765034, -0.23319198],\n",
       "       [ 0.52065737, -0.42713229, -0.73923874],\n",
       "       [ 0.75578934, -0.17214786,  0.63178128]])"
      ]
     },
     "execution_count": 8,
     "metadata": {},
     "output_type": "execute_result"
    }
   ],
   "source": [
    "L ## printing out the Eigenvector matrix computed via python command"
   ]
  },
  {
   "cell_type": "code",
   "execution_count": null,
   "metadata": {},
   "outputs": [],
   "source": []
  }
 ],
 "metadata": {
  "kernelspec": {
   "display_name": "Python 3",
   "language": "python",
   "name": "python3"
  },
  "language_info": {
   "codemirror_mode": {
    "name": "ipython",
    "version": 3
   },
   "file_extension": ".py",
   "mimetype": "text/x-python",
   "name": "python",
   "nbconvert_exporter": "python",
   "pygments_lexer": "ipython3",
   "version": "3.7.3"
  }
 },
 "nbformat": 4,
 "nbformat_minor": 2
}
